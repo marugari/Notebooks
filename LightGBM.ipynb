{
 "cells": [
  {
   "cell_type": "code",
   "execution_count": 1,
   "metadata": {
    "collapsed": true
   },
   "outputs": [],
   "source": [
    "import numpy as np\n",
    "import pandas as pd\n",
    "import xgboost as xgb\n",
    "import lightgbm as lgb\n",
    "import matplotlib.pyplot as plt\n",
    "import seaborn\n",
    "from sklearn import preprocessing\n",
    "import time\n",
    "%matplotlib inline"
   ]
  },
  {
   "cell_type": "code",
   "execution_count": 2,
   "metadata": {
    "collapsed": false
   },
   "outputs": [
    {
     "name": "stdout",
     "output_type": "stream",
     "text": [
      "(61878, 95)\n"
     ]
    }
   ],
   "source": [
    "train = pd.read_csv('input/otto_train.csv')\n",
    "print(train.shape)"
   ]
  },
  {
   "cell_type": "code",
   "execution_count": 3,
   "metadata": {
    "collapsed": true
   },
   "outputs": [],
   "source": [
    "def encode_features(dat):\n",
    "    df = pd.DataFrame(index=dat.index.values)\n",
    "    for c in dat.columns.values:\n",
    "        unq = np.unique(dat[c])\n",
    "        arr = np.zeros(len(df))\n",
    "        for ii, u in enumerate(unq):\n",
    "            flg = (dat[c] == u).values\n",
    "            arr[flg] = ii\n",
    "        df[c] = arr.astype(int)\n",
    "    return df"
   ]
  },
  {
   "cell_type": "code",
   "execution_count": 4,
   "metadata": {
    "collapsed": false
   },
   "outputs": [
    {
     "name": "stdout",
     "output_type": "stream",
     "text": [
      "(61878, 93) (61878,)\n"
     ]
    }
   ],
   "source": [
    "x = encode_features(train.drop(['id', 'target'], axis=1))\n",
    "y = np.array([int(v.split('_')[1])-1 for v in train.target])\n",
    "print(x.shape, y.shape)"
   ]
  },
  {
   "cell_type": "code",
   "execution_count": 5,
   "metadata": {
    "collapsed": false
   },
   "outputs": [
    {
     "name": "stdout",
     "output_type": "stream",
     "text": [
      "9\n"
     ]
    }
   ],
   "source": [
    "num_cls = len(np.unique(y))\n",
    "print(num_cls)"
   ]
  },
  {
   "cell_type": "code",
   "execution_count": 6,
   "metadata": {
    "collapsed": true
   },
   "outputs": [],
   "source": [
    "prm_xgb = {\n",
    "    'booster': 'gbtree',\n",
    "    'objective': 'multi:softprob',\n",
    "    'num_class': num_cls,\n",
    "    'max_depth': 5,\n",
    "    'learning_rate': 0.1,\n",
    "    'colsample_bytree': 0.9,\n",
    "    'subsample': 0.9,\n",
    "    'eval_metric': 'mlogloss',\n",
    "}\n",
    "prm_lgb = {\n",
    "    'boosting_type': 'gbdt',\n",
    "    'objective': 'multiclass',\n",
    "    'num_class': num_cls,\n",
    "    'num_leaves' : 2**5-1,\n",
    "    'learning_rate': 0.1,\n",
    "    'feature_fraction': 0.9,\n",
    "    'bagging_fraction': 0.9,\n",
    "    'metric': 'multi_logloss',\n",
    "}\n",
    "num_round = 10"
   ]
  },
  {
   "cell_type": "code",
   "execution_count": 7,
   "metadata": {
    "collapsed": true
   },
   "outputs": [],
   "source": [
    "flg_train = np.random.choice([False, True], len(y), p=[0.3, 0.7])\n",
    "flg_valid = np.logical_not(flg_train)"
   ]
  },
  {
   "cell_type": "code",
   "execution_count": 8,
   "metadata": {
    "collapsed": true
   },
   "outputs": [],
   "source": [
    "dt_xgb   = xgb.DMatrix(x[flg_train], y[flg_train])\n",
    "dv_xgb   = xgb.DMatrix(x[flg_valid], y[flg_valid])\n",
    "dt_lgb   = lgb.Dataset(x[flg_train], y[flg_train])\n",
    "dv_lgb   = lgb.Dataset(x[flg_valid], y[flg_valid], reference=dt_lgb)\n",
    "dt_lgb_c = lgb.Dataset(x[flg_train], y[flg_train], free_raw_data=False)\n",
    "dv_lgb_c = lgb.Dataset(x[flg_valid], y[flg_valid], free_raw_data=False,\n",
    "                       reference=dt_lgb)"
   ]
  },
  {
   "cell_type": "code",
   "execution_count": 9,
   "metadata": {
    "collapsed": false
   },
   "outputs": [
    {
     "name": "stdout",
     "output_type": "stream",
     "text": [
      "[0]\ttrain-mlogloss:1.99177\tvalid-mlogloss:1.99372\n",
      "[1]\ttrain-mlogloss:1.82784\tvalid-mlogloss:1.83223\n",
      "[2]\ttrain-mlogloss:1.70671\tvalid-mlogloss:1.71249\n",
      "[3]\ttrain-mlogloss:1.59923\tvalid-mlogloss:1.6073\n",
      "[4]\ttrain-mlogloss:1.50694\tvalid-mlogloss:1.51626\n",
      "[5]\ttrain-mlogloss:1.4277\tvalid-mlogloss:1.43853\n",
      "[6]\ttrain-mlogloss:1.36171\tvalid-mlogloss:1.37404\n",
      "[7]\ttrain-mlogloss:1.29922\tvalid-mlogloss:1.31287\n",
      "[8]\ttrain-mlogloss:1.2441\tvalid-mlogloss:1.25884\n",
      "[9]\ttrain-mlogloss:1.19562\tvalid-mlogloss:1.21179\n",
      "687.2176711559296\n"
     ]
    }
   ],
   "source": [
    "time_s = time.time()\n",
    "obj_xgb = xgb.train(\n",
    "    prm_xgb, dt_xgb, num_round,\n",
    "    [(dt_xgb, 'train'), (dv_xgb, 'valid')])\n",
    "time_t = time.time()\n",
    "print(time_t - time_s)"
   ]
  },
  {
   "cell_type": "code",
   "execution_count": 10,
   "metadata": {
    "collapsed": false
   },
   "outputs": [
    {
     "name": "stdout",
     "output_type": "stream",
     "text": [
      "[1]\tvalid_0's multi_logloss:1.96383\n",
      "[2]\tvalid_0's multi_logloss:1.79886\n",
      "[3]\tvalid_0's multi_logloss:1.66845\n",
      "[4]\tvalid_0's multi_logloss:1.56013\n",
      "[5]\tvalid_0's multi_logloss:1.47166\n",
      "[6]\tvalid_0's multi_logloss:1.39313\n",
      "[7]\tvalid_0's multi_logloss:1.32587\n",
      "[8]\tvalid_0's multi_logloss:1.26509\n",
      "[9]\tvalid_0's multi_logloss:1.211\n",
      "[10]\tvalid_0's multi_logloss:1.16295\n",
      "1.8976049423217773\n"
     ]
    }
   ],
   "source": [
    "time_s = time.time()\n",
    "obj_lgb = lgb.train(\n",
    "    prm_lgb, dt_lgb, num_boost_round=num_round,\n",
    "    valid_sets=dv_lgb)\n",
    "time_t = time.time()\n",
    "print(time_t - time_s)\n",
    "obj_lgb.save_model('output/lgb.txt')"
   ]
  },
  {
   "cell_type": "code",
   "execution_count": 11,
   "metadata": {
    "collapsed": false
   },
   "outputs": [
    {
     "name": "stdout",
     "output_type": "stream",
     "text": [
      "[1]\tvalid_0's multi_logloss:2.00997\n",
      "[2]\tvalid_0's multi_logloss:1.8735\n",
      "[3]\tvalid_0's multi_logloss:1.76282\n",
      "[4]\tvalid_0's multi_logloss:1.67073\n",
      "[5]\tvalid_0's multi_logloss:1.59668\n",
      "[6]\tvalid_0's multi_logloss:1.52861\n",
      "[7]\tvalid_0's multi_logloss:1.47019\n",
      "[8]\tvalid_0's multi_logloss:1.4177\n",
      "[9]\tvalid_0's multi_logloss:1.37029\n",
      "[10]\tvalid_0's multi_logloss:1.32816\n",
      "2.2183749675750732\n"
     ]
    }
   ],
   "source": [
    "time_s = time.time()\n",
    "obj_lgb = lgb.train(\n",
    "    prm_lgb, dt_lgb_c, num_boost_round=num_round,\n",
    "    valid_sets=dv_lgb_c,\n",
    "    categorical_feature=list(range(len(x.columns.values))))\n",
    "time_t = time.time()\n",
    "print(time_t - time_s)\n",
    "obj_lgb.save_model('output/lgb_cat.txt')"
   ]
  },
  {
   "cell_type": "code",
   "execution_count": null,
   "metadata": {
    "collapsed": true
   },
   "outputs": [],
   "source": []
  }
 ],
 "metadata": {
  "kernelspec": {
   "display_name": "Python 3",
   "language": "python",
   "name": "python3"
  },
  "language_info": {
   "codemirror_mode": {
    "name": "ipython",
    "version": 3
   },
   "file_extension": ".py",
   "mimetype": "text/x-python",
   "name": "python",
   "nbconvert_exporter": "python",
   "pygments_lexer": "ipython3",
   "version": "3.5.2"
  }
 },
 "nbformat": 4,
 "nbformat_minor": 2
}
