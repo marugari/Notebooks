{
 "cells": [
  {
   "cell_type": "code",
   "execution_count": 1,
   "metadata": {
    "collapsed": true
   },
   "outputs": [],
   "source": [
    "import numpy as np\n",
    "import pandas as pd\n",
    "import xgboost as xgb\n",
    "import lightgbm as lgb\n",
    "import matplotlib.pyplot as plt\n",
    "import seaborn\n",
    "from sklearn import preprocessing\n",
    "import time\n",
    "%matplotlib inline"
   ]
  },
  {
   "cell_type": "code",
   "execution_count": 2,
   "metadata": {
    "collapsed": false
   },
   "outputs": [
    {
     "name": "stdout",
     "output_type": "stream",
     "text": [
      "(61878, 95)\n"
     ]
    }
   ],
   "source": [
    "train = pd.read_csv('input/otto_train.csv')\n",
    "print(train.shape)"
   ]
  },
  {
   "cell_type": "code",
   "execution_count": 3,
   "metadata": {
    "collapsed": true
   },
   "outputs": [],
   "source": [
    "def encode_features(dat):\n",
    "    df = pd.DataFrame(index=dat.index.values)\n",
    "    for c in dat.columns.values:\n",
    "        unq = np.unique(dat[c])\n",
    "        arr = np.zeros(len(df))\n",
    "        for ii, u in enumerate(unq):\n",
    "            flg = (dat[c] == u).values\n",
    "            arr[flg] = ii\n",
    "        df[c] = arr.astype(int)\n",
    "    return df"
   ]
  },
  {
   "cell_type": "code",
   "execution_count": 4,
   "metadata": {
    "collapsed": false
   },
   "outputs": [
    {
     "name": "stdout",
     "output_type": "stream",
     "text": [
      "(61878, 93) (61878,)\n"
     ]
    }
   ],
   "source": [
    "x = encode_features(train.drop(['id', 'target'], axis=1))\n",
    "y = np.array([int(v.split('_')[1])-1 for v in train.target])\n",
    "print(x.shape, y.shape)"
   ]
  },
  {
   "cell_type": "code",
   "execution_count": 5,
   "metadata": {
    "collapsed": false
   },
   "outputs": [
    {
     "name": "stdout",
     "output_type": "stream",
     "text": [
      "9\n"
     ]
    }
   ],
   "source": [
    "num_cls = len(np.unique(y))\n",
    "print(num_cls)"
   ]
  },
  {
   "cell_type": "code",
   "execution_count": 6,
   "metadata": {
    "collapsed": true
   },
   "outputs": [],
   "source": [
    "prm_xgb = {\n",
    "    'booster': 'gbtree',\n",
    "    'objective': 'multi:softprob',\n",
    "    'num_class': num_cls,\n",
    "    'max_depth': 5,\n",
    "    'learning_rate': 0.1,\n",
    "    'colsample_bytree': 0.9,\n",
    "    'subsample': 0.9,\n",
    "    'eval_metric': 'mlogloss',\n",
    "}\n",
    "prm_lgb = {\n",
    "    'boosting_type': 'gbdt',\n",
    "    'objective': 'multiclass',\n",
    "    'num_class': num_cls,\n",
    "    'num_leaves' : 2**5-1,\n",
    "    'learning_rate': 0.1,\n",
    "    'feature_fraction': 0.9,\n",
    "    'bagging_fraction': 0.9,\n",
    "    'metric': 'multi_logloss',\n",
    "}\n",
    "num_round = 100"
   ]
  },
  {
   "cell_type": "code",
   "execution_count": 7,
   "metadata": {
    "collapsed": true
   },
   "outputs": [],
   "source": [
    "flg_train = np.random.choice([False, True], len(y), p=[0.3, 0.7])\n",
    "flg_valid = np.logical_not(flg_train)"
   ]
  },
  {
   "cell_type": "code",
   "execution_count": 8,
   "metadata": {
    "collapsed": true
   },
   "outputs": [],
   "source": [
    "dt_xgb   = xgb.DMatrix(x[flg_train], y[flg_train])\n",
    "dv_xgb   = xgb.DMatrix(x[flg_valid], y[flg_valid])\n",
    "dt_lgb   = lgb.Dataset(x[flg_train], y[flg_train])\n",
    "dv_lgb   = lgb.Dataset(x[flg_valid], y[flg_valid], reference=dt_lgb)\n",
    "dt_lgb_c = lgb.Dataset(x[flg_train], y[flg_train], free_raw_data=False)\n",
    "dv_lgb_c = lgb.Dataset(x[flg_valid], y[flg_valid], free_raw_data=False,\n",
    "                       reference=dt_lgb)"
   ]
  },
  {
   "cell_type": "code",
   "execution_count": 9,
   "metadata": {
    "collapsed": false
   },
   "outputs": [
    {
     "name": "stdout",
     "output_type": "stream",
     "text": [
      "[0]\ttrain-mlogloss:1.9749\tvalid-mlogloss:1.97786\n",
      "[1]\ttrain-mlogloss:1.81513\tvalid-mlogloss:1.82016\n",
      "[2]\ttrain-mlogloss:1.68753\tvalid-mlogloss:1.69448\n",
      "[3]\ttrain-mlogloss:1.58737\tvalid-mlogloss:1.59634\n",
      "[4]\ttrain-mlogloss:1.49727\tvalid-mlogloss:1.50756\n",
      "[5]\ttrain-mlogloss:1.41833\tvalid-mlogloss:1.43013\n",
      "[6]\ttrain-mlogloss:1.34989\tvalid-mlogloss:1.36321\n",
      "[7]\ttrain-mlogloss:1.28881\tvalid-mlogloss:1.30316\n",
      "[8]\ttrain-mlogloss:1.23412\tvalid-mlogloss:1.24999\n",
      "[9]\ttrain-mlogloss:1.1893\tvalid-mlogloss:1.20681\n",
      "[10]\ttrain-mlogloss:1.14526\tvalid-mlogloss:1.1641\n",
      "[11]\ttrain-mlogloss:1.10539\tvalid-mlogloss:1.12545\n",
      "[12]\ttrain-mlogloss:1.06823\tvalid-mlogloss:1.08933\n",
      "[13]\ttrain-mlogloss:1.035\tvalid-mlogloss:1.05767\n",
      "[14]\ttrain-mlogloss:1.00417\tvalid-mlogloss:1.02793\n",
      "[15]\ttrain-mlogloss:0.975752\tvalid-mlogloss:1.00083\n",
      "[16]\ttrain-mlogloss:0.949905\tvalid-mlogloss:0.976116\n",
      "[17]\ttrain-mlogloss:0.926771\tvalid-mlogloss:0.954262\n",
      "[18]\ttrain-mlogloss:0.904333\tvalid-mlogloss:0.932782\n",
      "[19]\ttrain-mlogloss:0.884051\tvalid-mlogloss:0.913604\n",
      "[20]\ttrain-mlogloss:0.864346\tvalid-mlogloss:0.894814\n",
      "[21]\ttrain-mlogloss:0.846135\tvalid-mlogloss:0.87752\n",
      "[22]\ttrain-mlogloss:0.829931\tvalid-mlogloss:0.862263\n",
      "[23]\ttrain-mlogloss:0.813901\tvalid-mlogloss:0.847417\n",
      "[24]\ttrain-mlogloss:0.800702\tvalid-mlogloss:0.835034\n",
      "[25]\ttrain-mlogloss:0.786415\tvalid-mlogloss:0.82151\n",
      "[26]\ttrain-mlogloss:0.773518\tvalid-mlogloss:0.809479\n",
      "[27]\ttrain-mlogloss:0.761349\tvalid-mlogloss:0.798154\n",
      "[28]\ttrain-mlogloss:0.749561\tvalid-mlogloss:0.787332\n",
      "[29]\ttrain-mlogloss:0.739074\tvalid-mlogloss:0.777873\n",
      "[30]\ttrain-mlogloss:0.72904\tvalid-mlogloss:0.768536\n",
      "[31]\ttrain-mlogloss:0.719879\tvalid-mlogloss:0.760136\n",
      "[32]\ttrain-mlogloss:0.710958\tvalid-mlogloss:0.751872\n",
      "[33]\ttrain-mlogloss:0.702429\tvalid-mlogloss:0.744101\n",
      "[34]\ttrain-mlogloss:0.694413\tvalid-mlogloss:0.736765\n",
      "[35]\ttrain-mlogloss:0.686297\tvalid-mlogloss:0.729367\n",
      "[36]\ttrain-mlogloss:0.679069\tvalid-mlogloss:0.722953\n",
      "[37]\ttrain-mlogloss:0.671647\tvalid-mlogloss:0.716236\n",
      "[38]\ttrain-mlogloss:0.664965\tvalid-mlogloss:0.710339\n",
      "[39]\ttrain-mlogloss:0.658433\tvalid-mlogloss:0.704511\n",
      "[40]\ttrain-mlogloss:0.652415\tvalid-mlogloss:0.699146\n",
      "[41]\ttrain-mlogloss:0.646368\tvalid-mlogloss:0.693898\n",
      "[42]\ttrain-mlogloss:0.640702\tvalid-mlogloss:0.688782\n",
      "[43]\ttrain-mlogloss:0.6351\tvalid-mlogloss:0.683967\n",
      "[44]\ttrain-mlogloss:0.629619\tvalid-mlogloss:0.679177\n",
      "[45]\ttrain-mlogloss:0.624421\tvalid-mlogloss:0.674633\n",
      "[46]\ttrain-mlogloss:0.619933\tvalid-mlogloss:0.670558\n",
      "[47]\ttrain-mlogloss:0.615169\tvalid-mlogloss:0.666484\n",
      "[48]\ttrain-mlogloss:0.610652\tvalid-mlogloss:0.662573\n",
      "[49]\ttrain-mlogloss:0.606615\tvalid-mlogloss:0.659072\n",
      "[50]\ttrain-mlogloss:0.602393\tvalid-mlogloss:0.655321\n",
      "[51]\ttrain-mlogloss:0.598402\tvalid-mlogloss:0.651868\n",
      "[52]\ttrain-mlogloss:0.594541\tvalid-mlogloss:0.648586\n",
      "[53]\ttrain-mlogloss:0.590923\tvalid-mlogloss:0.645361\n",
      "[54]\ttrain-mlogloss:0.587173\tvalid-mlogloss:0.642231\n",
      "[55]\ttrain-mlogloss:0.583629\tvalid-mlogloss:0.639333\n",
      "[56]\ttrain-mlogloss:0.580332\tvalid-mlogloss:0.636784\n",
      "[57]\ttrain-mlogloss:0.577208\tvalid-mlogloss:0.634202\n",
      "[58]\ttrain-mlogloss:0.573822\tvalid-mlogloss:0.631327\n",
      "[59]\ttrain-mlogloss:0.570817\tvalid-mlogloss:0.628886\n",
      "[60]\ttrain-mlogloss:0.567386\tvalid-mlogloss:0.626079\n",
      "[61]\ttrain-mlogloss:0.564283\tvalid-mlogloss:0.62367\n",
      "[62]\ttrain-mlogloss:0.561481\tvalid-mlogloss:0.621506\n",
      "[63]\ttrain-mlogloss:0.558628\tvalid-mlogloss:0.619179\n",
      "[64]\ttrain-mlogloss:0.555943\tvalid-mlogloss:0.617106\n",
      "[65]\ttrain-mlogloss:0.553548\tvalid-mlogloss:0.615105\n",
      "[66]\ttrain-mlogloss:0.550899\tvalid-mlogloss:0.613026\n",
      "[67]\ttrain-mlogloss:0.54858\tvalid-mlogloss:0.611065\n",
      "[68]\ttrain-mlogloss:0.546032\tvalid-mlogloss:0.609072\n",
      "[69]\ttrain-mlogloss:0.543674\tvalid-mlogloss:0.607292\n",
      "[70]\ttrain-mlogloss:0.541337\tvalid-mlogloss:0.605368\n",
      "[71]\ttrain-mlogloss:0.539299\tvalid-mlogloss:0.603583\n",
      "[72]\ttrain-mlogloss:0.537231\tvalid-mlogloss:0.602016\n",
      "[73]\ttrain-mlogloss:0.535119\tvalid-mlogloss:0.600358\n",
      "[74]\ttrain-mlogloss:0.533074\tvalid-mlogloss:0.598835\n",
      "[75]\ttrain-mlogloss:0.530952\tvalid-mlogloss:0.597178\n",
      "[76]\ttrain-mlogloss:0.529129\tvalid-mlogloss:0.595782\n",
      "[77]\ttrain-mlogloss:0.527\tvalid-mlogloss:0.594289\n",
      "[78]\ttrain-mlogloss:0.525044\tvalid-mlogloss:0.592802\n",
      "[79]\ttrain-mlogloss:0.523346\tvalid-mlogloss:0.591531\n",
      "[80]\ttrain-mlogloss:0.521498\tvalid-mlogloss:0.590113\n",
      "[81]\ttrain-mlogloss:0.51951\tvalid-mlogloss:0.588649\n",
      "[82]\ttrain-mlogloss:0.517576\tvalid-mlogloss:0.587213\n",
      "[83]\ttrain-mlogloss:0.51572\tvalid-mlogloss:0.585825\n",
      "[84]\ttrain-mlogloss:0.513916\tvalid-mlogloss:0.584554\n",
      "[85]\ttrain-mlogloss:0.512088\tvalid-mlogloss:0.583248\n",
      "[86]\ttrain-mlogloss:0.51044\tvalid-mlogloss:0.582087\n",
      "[87]\ttrain-mlogloss:0.508647\tvalid-mlogloss:0.580724\n",
      "[88]\ttrain-mlogloss:0.507074\tvalid-mlogloss:0.579627\n",
      "[89]\ttrain-mlogloss:0.505379\tvalid-mlogloss:0.578467\n",
      "[90]\ttrain-mlogloss:0.503681\tvalid-mlogloss:0.577333\n",
      "[91]\ttrain-mlogloss:0.502258\tvalid-mlogloss:0.576428\n",
      "[92]\ttrain-mlogloss:0.500883\tvalid-mlogloss:0.575436\n",
      "[93]\ttrain-mlogloss:0.499214\tvalid-mlogloss:0.574286\n",
      "[94]\ttrain-mlogloss:0.497333\tvalid-mlogloss:0.57303\n",
      "[95]\ttrain-mlogloss:0.495955\tvalid-mlogloss:0.572078\n",
      "[96]\ttrain-mlogloss:0.494243\tvalid-mlogloss:0.57084\n",
      "[97]\ttrain-mlogloss:0.492778\tvalid-mlogloss:0.569883\n",
      "[98]\ttrain-mlogloss:0.491239\tvalid-mlogloss:0.568956\n",
      "[99]\ttrain-mlogloss:0.48992\tvalid-mlogloss:0.568114\n",
      "72.49914598464966\n"
     ]
    }
   ],
   "source": [
    "time_s = time.time()\n",
    "obj_xgb = xgb.train(\n",
    "    prm_xgb, dt_xgb, num_round,\n",
    "    [(dt_xgb, 'train'), (dv_xgb, 'valid')])\n",
    "time_t = time.time()\n",
    "print(time_t - time_s)"
   ]
  },
  {
   "cell_type": "code",
   "execution_count": 10,
   "metadata": {
    "collapsed": false
   },
   "outputs": [
    {
     "name": "stdout",
     "output_type": "stream",
     "text": [
      "[1]\tvalid_0's multi_logloss:1.96479\n",
      "[2]\tvalid_0's multi_logloss:1.79892\n",
      "[3]\tvalid_0's multi_logloss:1.66818\n",
      "[4]\tvalid_0's multi_logloss:1.56021\n",
      "[5]\tvalid_0's multi_logloss:1.47257\n",
      "[6]\tvalid_0's multi_logloss:1.39444\n",
      "[7]\tvalid_0's multi_logloss:1.3271\n",
      "[8]\tvalid_0's multi_logloss:1.26567\n",
      "[9]\tvalid_0's multi_logloss:1.2118\n",
      "[10]\tvalid_0's multi_logloss:1.16331\n",
      "[11]\tvalid_0's multi_logloss:1.11929\n",
      "[12]\tvalid_0's multi_logloss:1.08051\n",
      "[13]\tvalid_0's multi_logloss:1.04474\n",
      "[14]\tvalid_0's multi_logloss:1.01212\n",
      "[15]\tvalid_0's multi_logloss:0.982286\n",
      "[16]\tvalid_0's multi_logloss:0.955192\n",
      "[17]\tvalid_0's multi_logloss:0.930746\n",
      "[18]\tvalid_0's multi_logloss:0.908582\n",
      "[19]\tvalid_0's multi_logloss:0.887337\n",
      "[20]\tvalid_0's multi_logloss:0.868239\n",
      "[21]\tvalid_0's multi_logloss:0.849997\n",
      "[22]\tvalid_0's multi_logloss:0.833093\n",
      "[23]\tvalid_0's multi_logloss:0.81763\n",
      "[24]\tvalid_0's multi_logloss:0.803032\n",
      "[25]\tvalid_0's multi_logloss:0.789616\n",
      "[26]\tvalid_0's multi_logloss:0.77642\n",
      "[27]\tvalid_0's multi_logloss:0.764128\n",
      "[28]\tvalid_0's multi_logloss:0.752498\n",
      "[29]\tvalid_0's multi_logloss:0.741578\n",
      "[30]\tvalid_0's multi_logloss:0.731627\n",
      "[31]\tvalid_0's multi_logloss:0.721856\n",
      "[32]\tvalid_0's multi_logloss:0.713011\n",
      "[33]\tvalid_0's multi_logloss:0.704539\n",
      "[34]\tvalid_0's multi_logloss:0.696752\n",
      "[35]\tvalid_0's multi_logloss:0.68918\n",
      "[36]\tvalid_0's multi_logloss:0.682273\n",
      "[37]\tvalid_0's multi_logloss:0.67561\n",
      "[38]\tvalid_0's multi_logloss:0.669092\n",
      "[39]\tvalid_0's multi_logloss:0.662954\n",
      "[40]\tvalid_0's multi_logloss:0.656982\n",
      "[41]\tvalid_0's multi_logloss:0.651605\n",
      "[42]\tvalid_0's multi_logloss:0.646451\n",
      "[43]\tvalid_0's multi_logloss:0.641439\n",
      "[44]\tvalid_0's multi_logloss:0.636352\n",
      "[45]\tvalid_0's multi_logloss:0.631676\n",
      "[46]\tvalid_0's multi_logloss:0.627\n",
      "[47]\tvalid_0's multi_logloss:0.622398\n",
      "[48]\tvalid_0's multi_logloss:0.618393\n",
      "[49]\tvalid_0's multi_logloss:0.614436\n",
      "[50]\tvalid_0's multi_logloss:0.610375\n",
      "[51]\tvalid_0's multi_logloss:0.606756\n",
      "[52]\tvalid_0's multi_logloss:0.603491\n",
      "[53]\tvalid_0's multi_logloss:0.599853\n",
      "[54]\tvalid_0's multi_logloss:0.596562\n",
      "[55]\tvalid_0's multi_logloss:0.593343\n",
      "[56]\tvalid_0's multi_logloss:0.590241\n",
      "[57]\tvalid_0's multi_logloss:0.587256\n",
      "[58]\tvalid_0's multi_logloss:0.584348\n",
      "[59]\tvalid_0's multi_logloss:0.581848\n",
      "[60]\tvalid_0's multi_logloss:0.579283\n",
      "[61]\tvalid_0's multi_logloss:0.576717\n",
      "[62]\tvalid_0's multi_logloss:0.574081\n",
      "[63]\tvalid_0's multi_logloss:0.57152\n",
      "[64]\tvalid_0's multi_logloss:0.569231\n",
      "[65]\tvalid_0's multi_logloss:0.567168\n",
      "[66]\tvalid_0's multi_logloss:0.565084\n",
      "[67]\tvalid_0's multi_logloss:0.563171\n",
      "[68]\tvalid_0's multi_logloss:0.561166\n",
      "[69]\tvalid_0's multi_logloss:0.559198\n",
      "[70]\tvalid_0's multi_logloss:0.55722\n",
      "[71]\tvalid_0's multi_logloss:0.555406\n",
      "[72]\tvalid_0's multi_logloss:0.553726\n",
      "[73]\tvalid_0's multi_logloss:0.552007\n",
      "[74]\tvalid_0's multi_logloss:0.550279\n",
      "[75]\tvalid_0's multi_logloss:0.548664\n",
      "[76]\tvalid_0's multi_logloss:0.547094\n",
      "[77]\tvalid_0's multi_logloss:0.545712\n",
      "[78]\tvalid_0's multi_logloss:0.544206\n",
      "[79]\tvalid_0's multi_logloss:0.54253\n",
      "[80]\tvalid_0's multi_logloss:0.541122\n",
      "[81]\tvalid_0's multi_logloss:0.539966\n",
      "[82]\tvalid_0's multi_logloss:0.538642\n",
      "[83]\tvalid_0's multi_logloss:0.537402\n",
      "[84]\tvalid_0's multi_logloss:0.536248\n",
      "[85]\tvalid_0's multi_logloss:0.535028\n",
      "[86]\tvalid_0's multi_logloss:0.533842\n",
      "[87]\tvalid_0's multi_logloss:0.532875\n",
      "[88]\tvalid_0's multi_logloss:0.531666\n",
      "[89]\tvalid_0's multi_logloss:0.530596\n",
      "[90]\tvalid_0's multi_logloss:0.52959\n",
      "[91]\tvalid_0's multi_logloss:0.528571\n",
      "[92]\tvalid_0's multi_logloss:0.527523\n",
      "[93]\tvalid_0's multi_logloss:0.526624\n",
      "[94]\tvalid_0's multi_logloss:0.525679\n",
      "[95]\tvalid_0's multi_logloss:0.524689\n",
      "[96]\tvalid_0's multi_logloss:0.523974\n",
      "[97]\tvalid_0's multi_logloss:0.523195\n",
      "[98]\tvalid_0's multi_logloss:0.522413\n",
      "[99]\tvalid_0's multi_logloss:0.521563\n",
      "[100]\tvalid_0's multi_logloss:0.520789\n",
      "15.253958940505981\n"
     ]
    }
   ],
   "source": [
    "time_s = time.time()\n",
    "obj_lgb = lgb.train(\n",
    "    prm_lgb, dt_lgb, num_boost_round=num_round,\n",
    "    valid_sets=dv_lgb)\n",
    "time_t = time.time()\n",
    "print(time_t - time_s)\n",
    "obj_lgb.save_model('output/lgb.txt')"
   ]
  },
  {
   "cell_type": "code",
   "execution_count": 11,
   "metadata": {
    "collapsed": false
   },
   "outputs": [
    {
     "name": "stdout",
     "output_type": "stream",
     "text": [
      "[1]\tvalid_0's multi_logloss:2.0095\n",
      "[2]\tvalid_0's multi_logloss:1.87231\n",
      "[3]\tvalid_0's multi_logloss:1.7606\n",
      "[4]\tvalid_0's multi_logloss:1.66921\n",
      "[5]\tvalid_0's multi_logloss:1.59493\n",
      "[6]\tvalid_0's multi_logloss:1.52725\n",
      "[7]\tvalid_0's multi_logloss:1.46893\n",
      "[8]\tvalid_0's multi_logloss:1.41559\n",
      "[9]\tvalid_0's multi_logloss:1.36839\n",
      "[10]\tvalid_0's multi_logloss:1.32496\n",
      "[11]\tvalid_0's multi_logloss:1.28681\n",
      "[12]\tvalid_0's multi_logloss:1.2513\n",
      "[13]\tvalid_0's multi_logloss:1.21869\n",
      "[14]\tvalid_0's multi_logloss:1.18943\n",
      "[15]\tvalid_0's multi_logloss:1.16157\n",
      "[16]\tvalid_0's multi_logloss:1.1372\n",
      "[17]\tvalid_0's multi_logloss:1.11444\n",
      "[18]\tvalid_0's multi_logloss:1.09381\n",
      "[19]\tvalid_0's multi_logloss:1.07351\n",
      "[20]\tvalid_0's multi_logloss:1.05467\n",
      "[21]\tvalid_0's multi_logloss:1.03711\n",
      "[22]\tvalid_0's multi_logloss:1.0203\n",
      "[23]\tvalid_0's multi_logloss:1.00493\n",
      "[24]\tvalid_0's multi_logloss:0.990066\n",
      "[25]\tvalid_0's multi_logloss:0.977071\n",
      "[26]\tvalid_0's multi_logloss:0.964303\n",
      "[27]\tvalid_0's multi_logloss:0.951664\n",
      "[28]\tvalid_0's multi_logloss:0.940043\n",
      "[29]\tvalid_0's multi_logloss:0.928417\n",
      "[30]\tvalid_0's multi_logloss:0.917976\n",
      "[31]\tvalid_0's multi_logloss:0.908057\n",
      "[32]\tvalid_0's multi_logloss:0.898802\n",
      "[33]\tvalid_0's multi_logloss:0.888839\n",
      "[34]\tvalid_0's multi_logloss:0.880477\n",
      "[35]\tvalid_0's multi_logloss:0.872348\n",
      "[36]\tvalid_0's multi_logloss:0.864523\n",
      "[37]\tvalid_0's multi_logloss:0.856645\n",
      "[38]\tvalid_0's multi_logloss:0.849566\n",
      "[39]\tvalid_0's multi_logloss:0.842908\n",
      "[40]\tvalid_0's multi_logloss:0.837094\n",
      "[41]\tvalid_0's multi_logloss:0.831153\n",
      "[42]\tvalid_0's multi_logloss:0.825275\n",
      "[43]\tvalid_0's multi_logloss:0.819314\n",
      "[44]\tvalid_0's multi_logloss:0.814018\n",
      "[45]\tvalid_0's multi_logloss:0.808581\n",
      "[46]\tvalid_0's multi_logloss:0.803203\n",
      "[47]\tvalid_0's multi_logloss:0.798478\n",
      "[48]\tvalid_0's multi_logloss:0.794152\n",
      "[49]\tvalid_0's multi_logloss:0.789687\n",
      "[50]\tvalid_0's multi_logloss:0.784817\n",
      "[51]\tvalid_0's multi_logloss:0.780504\n",
      "[52]\tvalid_0's multi_logloss:0.776496\n",
      "[53]\tvalid_0's multi_logloss:0.772495\n",
      "[54]\tvalid_0's multi_logloss:0.768629\n",
      "[55]\tvalid_0's multi_logloss:0.764602\n",
      "[56]\tvalid_0's multi_logloss:0.760925\n",
      "[57]\tvalid_0's multi_logloss:0.757462\n",
      "[58]\tvalid_0's multi_logloss:0.754068\n",
      "[59]\tvalid_0's multi_logloss:0.7509\n",
      "[60]\tvalid_0's multi_logloss:0.747684\n",
      "[61]\tvalid_0's multi_logloss:0.744484\n",
      "[62]\tvalid_0's multi_logloss:0.74129\n",
      "[63]\tvalid_0's multi_logloss:0.738172\n",
      "[64]\tvalid_0's multi_logloss:0.735138\n",
      "[65]\tvalid_0's multi_logloss:0.732298\n",
      "[66]\tvalid_0's multi_logloss:0.729659\n",
      "[67]\tvalid_0's multi_logloss:0.72725\n",
      "[68]\tvalid_0's multi_logloss:0.724939\n",
      "[69]\tvalid_0's multi_logloss:0.722515\n",
      "[70]\tvalid_0's multi_logloss:0.719831\n",
      "[71]\tvalid_0's multi_logloss:0.717382\n",
      "[72]\tvalid_0's multi_logloss:0.715134\n",
      "[73]\tvalid_0's multi_logloss:0.713253\n",
      "[74]\tvalid_0's multi_logloss:0.71121\n",
      "[75]\tvalid_0's multi_logloss:0.709243\n",
      "[76]\tvalid_0's multi_logloss:0.70706\n",
      "[77]\tvalid_0's multi_logloss:0.705169\n",
      "[78]\tvalid_0's multi_logloss:0.702981\n",
      "[79]\tvalid_0's multi_logloss:0.700969\n",
      "[80]\tvalid_0's multi_logloss:0.699158\n",
      "[81]\tvalid_0's multi_logloss:0.697488\n",
      "[82]\tvalid_0's multi_logloss:0.695664\n",
      "[83]\tvalid_0's multi_logloss:0.693783\n",
      "[84]\tvalid_0's multi_logloss:0.692006\n",
      "[85]\tvalid_0's multi_logloss:0.690273\n",
      "[86]\tvalid_0's multi_logloss:0.68861\n",
      "[87]\tvalid_0's multi_logloss:0.687079\n",
      "[88]\tvalid_0's multi_logloss:0.685602\n",
      "[89]\tvalid_0's multi_logloss:0.684075\n",
      "[90]\tvalid_0's multi_logloss:0.682489\n",
      "[91]\tvalid_0's multi_logloss:0.680933\n",
      "[92]\tvalid_0's multi_logloss:0.679729\n",
      "[93]\tvalid_0's multi_logloss:0.678426\n",
      "[94]\tvalid_0's multi_logloss:0.676932\n",
      "[95]\tvalid_0's multi_logloss:0.675701\n",
      "[96]\tvalid_0's multi_logloss:0.674364\n",
      "[97]\tvalid_0's multi_logloss:0.673161\n",
      "[98]\tvalid_0's multi_logloss:0.671959\n",
      "[99]\tvalid_0's multi_logloss:0.670711\n",
      "[100]\tvalid_0's multi_logloss:0.66944\n",
      "15.280018091201782\n"
     ]
    }
   ],
   "source": [
    "time_s = time.time()\n",
    "obj_lgb = lgb.train(\n",
    "    prm_lgb, dt_lgb_c, num_boost_round=num_round,\n",
    "    valid_sets=dv_lgb_c,\n",
    "    categorical_feature=list(range(len(x.columns.values))))\n",
    "time_t = time.time()\n",
    "print(time_t - time_s)\n",
    "obj_lgb.save_model('output/lgb_cat.txt')"
   ]
  },
  {
   "cell_type": "code",
   "execution_count": null,
   "metadata": {
    "collapsed": true
   },
   "outputs": [],
   "source": []
  }
 ],
 "metadata": {
  "kernelspec": {
   "display_name": "Python 3",
   "language": "python",
   "name": "python3"
  },
  "language_info": {
   "codemirror_mode": {
    "name": "ipython",
    "version": 3
   },
   "file_extension": ".py",
   "mimetype": "text/x-python",
   "name": "python",
   "nbconvert_exporter": "python",
   "pygments_lexer": "ipython3",
   "version": "3.5.2"
  }
 },
 "nbformat": 4,
 "nbformat_minor": 2
}
