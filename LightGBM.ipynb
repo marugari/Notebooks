{
 "cells": [
  {
   "cell_type": "code",
   "execution_count": 1,
   "metadata": {
    "collapsed": true
   },
   "outputs": [],
   "source": [
    "import numpy as np\n",
    "import pandas as pd\n",
    "import xgboost as xgb\n",
    "import lightgbm as lgb\n",
    "import matplotlib.pyplot as plt\n",
    "import seaborn\n",
    "from sklearn import preprocessing\n",
    "import time\n",
    "%matplotlib inline"
   ]
  },
  {
   "cell_type": "code",
   "execution_count": 2,
   "metadata": {
    "collapsed": false
   },
   "outputs": [
    {
     "name": "stdout",
     "output_type": "stream",
     "text": [
      "(61878, 95)\n"
     ]
    }
   ],
   "source": [
    "train = pd.read_csv('input/otto_train.csv')\n",
    "print(train.shape)"
   ]
  },
  {
   "cell_type": "code",
   "execution_count": 3,
   "metadata": {
    "collapsed": true
   },
   "outputs": [],
   "source": [
    "def encode_features(dat):\n",
    "    df = pd.DataFrame(index=dat.index.values)\n",
    "    for c in dat.columns.values:\n",
    "        unq = np.unique(dat[c])\n",
    "        arr = np.zeros(len(df))\n",
    "        for ii, u in enumerate(unq):\n",
    "            flg = (dat[c] == u).values\n",
    "            arr[flg] = ii\n",
    "        df[c] = arr.astype(int)\n",
    "    return df"
   ]
  },
  {
   "cell_type": "code",
   "execution_count": 4,
   "metadata": {
    "collapsed": false
   },
   "outputs": [
    {
     "name": "stdout",
     "output_type": "stream",
     "text": [
      "(61878, 93) (61878,)\n"
     ]
    }
   ],
   "source": [
    "x = encode_features(train.drop(['id', 'target'], axis=1))\n",
    "y = np.array([int(v.split('_')[1])-1 for v in train.target])\n",
    "print(x.shape, y.shape)"
   ]
  },
  {
   "cell_type": "code",
   "execution_count": 5,
   "metadata": {
    "collapsed": false
   },
   "outputs": [
    {
     "name": "stdout",
     "output_type": "stream",
     "text": [
      "9\n"
     ]
    }
   ],
   "source": [
    "num_cls = len(np.unique(y))\n",
    "print(num_cls)"
   ]
  },
  {
   "cell_type": "code",
   "execution_count": 6,
   "metadata": {
    "collapsed": true
   },
   "outputs": [],
   "source": [
    "prm_xgb = {\n",
    "    'booster': 'gbtree',\n",
    "    'objective': 'multi:softprob',\n",
    "    'num_class': num_cls,\n",
    "    'max_depth': 5,\n",
    "    'learning_rate': 0.1,\n",
    "    'colsample_bytree': 0.9,\n",
    "    'subsample': 0.9,\n",
    "    'eval_metric': 'mlogloss',\n",
    "}\n",
    "prm_lgb = {\n",
    "    'boosting_type': 'gbdt',\n",
    "    'objective': 'multiclass',\n",
    "    'num_class': num_cls,\n",
    "    'num_leaves' : 2**5-1,\n",
    "    'learning_rate': 0.1,\n",
    "    'feature_fraction': 0.9,\n",
    "    'bagging_fraction': 0.9,\n",
    "    'bagging_freq' : 1,\n",
    "    'metric': 'multi_logloss',\n",
    "}\n",
    "num_round = 100"
   ]
  },
  {
   "cell_type": "code",
   "execution_count": 7,
   "metadata": {
    "collapsed": true
   },
   "outputs": [],
   "source": [
    "np.random.seed(20161218)\n",
    "flg_train = np.random.choice([False, True], len(y), p=[0.3, 0.7])\n",
    "flg_valid = np.logical_not(flg_train)"
   ]
  },
  {
   "cell_type": "code",
   "execution_count": 8,
   "metadata": {
    "collapsed": true
   },
   "outputs": [],
   "source": [
    "dt_xgb   = xgb.DMatrix(x[flg_train], y[flg_train])\n",
    "dv_xgb   = xgb.DMatrix(x[flg_valid], y[flg_valid])\n",
    "dt_lgb   = lgb.Dataset(x[flg_train], y[flg_train])\n",
    "dv_lgb   = lgb.Dataset(x[flg_valid], y[flg_valid], reference=dt_lgb)\n",
    "dt_lgb_c = lgb.Dataset(x[flg_train], y[flg_train], free_raw_data=False)\n",
    "dv_lgb_c = lgb.Dataset(x[flg_valid], y[flg_valid], free_raw_data=False,\n",
    "                       reference=dt_lgb)"
   ]
  },
  {
   "cell_type": "code",
   "execution_count": 9,
   "metadata": {
    "collapsed": false
   },
   "outputs": [
    {
     "name": "stdout",
     "output_type": "stream",
     "text": [
      "[0]\ttrain-mlogloss:1.97769\tvalid-mlogloss:1.98167\n",
      "[1]\ttrain-mlogloss:1.81571\tvalid-mlogloss:1.82305\n",
      "[2]\ttrain-mlogloss:1.68693\tvalid-mlogloss:1.69735\n",
      "[3]\ttrain-mlogloss:1.58784\tvalid-mlogloss:1.60077\n",
      "[4]\ttrain-mlogloss:1.49629\tvalid-mlogloss:1.51075\n",
      "[5]\ttrain-mlogloss:1.41958\tvalid-mlogloss:1.43592\n",
      "[6]\ttrain-mlogloss:1.35004\tvalid-mlogloss:1.368\n",
      "[7]\ttrain-mlogloss:1.28977\tvalid-mlogloss:1.30914\n",
      "[8]\ttrain-mlogloss:1.23794\tvalid-mlogloss:1.25887\n",
      "[9]\ttrain-mlogloss:1.18878\tvalid-mlogloss:1.21078\n",
      "[10]\ttrain-mlogloss:1.14482\tvalid-mlogloss:1.16806\n",
      "[11]\ttrain-mlogloss:1.10467\tvalid-mlogloss:1.12878\n",
      "[12]\ttrain-mlogloss:1.06779\tvalid-mlogloss:1.09323\n",
      "[13]\ttrain-mlogloss:1.03423\tvalid-mlogloss:1.06093\n",
      "[14]\ttrain-mlogloss:1.00338\tvalid-mlogloss:1.03145\n",
      "[15]\ttrain-mlogloss:0.975446\tvalid-mlogloss:1.00447\n",
      "[16]\ttrain-mlogloss:0.950178\tvalid-mlogloss:0.980001\n",
      "[17]\ttrain-mlogloss:0.927154\tvalid-mlogloss:0.957823\n",
      "[18]\ttrain-mlogloss:0.904816\tvalid-mlogloss:0.936438\n",
      "[19]\ttrain-mlogloss:0.88535\tvalid-mlogloss:0.917764\n",
      "[20]\ttrain-mlogloss:0.866943\tvalid-mlogloss:0.900236\n",
      "[21]\ttrain-mlogloss:0.848689\tvalid-mlogloss:0.882548\n",
      "[22]\ttrain-mlogloss:0.831932\tvalid-mlogloss:0.866694\n",
      "[23]\ttrain-mlogloss:0.817331\tvalid-mlogloss:0.852802\n",
      "[24]\ttrain-mlogloss:0.802325\tvalid-mlogloss:0.838711\n",
      "[25]\ttrain-mlogloss:0.788303\tvalid-mlogloss:0.82546\n",
      "[26]\ttrain-mlogloss:0.774821\tvalid-mlogloss:0.812747\n",
      "[27]\ttrain-mlogloss:0.762089\tvalid-mlogloss:0.800748\n",
      "[28]\ttrain-mlogloss:0.750976\tvalid-mlogloss:0.790482\n",
      "[29]\ttrain-mlogloss:0.739906\tvalid-mlogloss:0.780105\n",
      "[30]\ttrain-mlogloss:0.72947\tvalid-mlogloss:0.770532\n",
      "[31]\ttrain-mlogloss:0.719581\tvalid-mlogloss:0.761236\n",
      "[32]\ttrain-mlogloss:0.710496\tvalid-mlogloss:0.752896\n",
      "[33]\ttrain-mlogloss:0.701718\tvalid-mlogloss:0.744823\n",
      "[34]\ttrain-mlogloss:0.693449\tvalid-mlogloss:0.737215\n",
      "[35]\ttrain-mlogloss:0.686012\tvalid-mlogloss:0.730414\n",
      "[36]\ttrain-mlogloss:0.6786\tvalid-mlogloss:0.723613\n",
      "[37]\ttrain-mlogloss:0.671537\tvalid-mlogloss:0.717258\n",
      "[38]\ttrain-mlogloss:0.664872\tvalid-mlogloss:0.711308\n",
      "[39]\ttrain-mlogloss:0.65827\tvalid-mlogloss:0.70538\n",
      "[40]\ttrain-mlogloss:0.652491\tvalid-mlogloss:0.700172\n",
      "[41]\ttrain-mlogloss:0.646292\tvalid-mlogloss:0.694649\n",
      "[42]\ttrain-mlogloss:0.640946\tvalid-mlogloss:0.68997\n",
      "[43]\ttrain-mlogloss:0.635377\tvalid-mlogloss:0.685187\n",
      "[44]\ttrain-mlogloss:0.629765\tvalid-mlogloss:0.680131\n",
      "[45]\ttrain-mlogloss:0.624747\tvalid-mlogloss:0.675822\n",
      "[46]\ttrain-mlogloss:0.620059\tvalid-mlogloss:0.671835\n",
      "[47]\ttrain-mlogloss:0.615438\tvalid-mlogloss:0.667818\n",
      "[48]\ttrain-mlogloss:0.61111\tvalid-mlogloss:0.664124\n",
      "[49]\ttrain-mlogloss:0.606787\tvalid-mlogloss:0.660404\n",
      "[50]\ttrain-mlogloss:0.602591\tvalid-mlogloss:0.65673\n",
      "[51]\ttrain-mlogloss:0.598151\tvalid-mlogloss:0.65303\n",
      "[52]\ttrain-mlogloss:0.594195\tvalid-mlogloss:0.64961\n",
      "[53]\ttrain-mlogloss:0.590399\tvalid-mlogloss:0.646296\n",
      "[54]\ttrain-mlogloss:0.586551\tvalid-mlogloss:0.64311\n",
      "[55]\ttrain-mlogloss:0.583053\tvalid-mlogloss:0.640342\n",
      "[56]\ttrain-mlogloss:0.579582\tvalid-mlogloss:0.637335\n",
      "[57]\ttrain-mlogloss:0.576264\tvalid-mlogloss:0.634617\n",
      "[58]\ttrain-mlogloss:0.573013\tvalid-mlogloss:0.631998\n",
      "[59]\ttrain-mlogloss:0.569984\tvalid-mlogloss:0.629461\n",
      "[60]\ttrain-mlogloss:0.567038\tvalid-mlogloss:0.627098\n",
      "[61]\ttrain-mlogloss:0.56438\tvalid-mlogloss:0.624942\n",
      "[62]\ttrain-mlogloss:0.561487\tvalid-mlogloss:0.622638\n",
      "[63]\ttrain-mlogloss:0.558694\tvalid-mlogloss:0.620354\n",
      "[64]\ttrain-mlogloss:0.55589\tvalid-mlogloss:0.618263\n",
      "[65]\ttrain-mlogloss:0.553144\tvalid-mlogloss:0.616094\n",
      "[66]\ttrain-mlogloss:0.550565\tvalid-mlogloss:0.614126\n",
      "[67]\ttrain-mlogloss:0.54817\tvalid-mlogloss:0.612366\n",
      "[68]\ttrain-mlogloss:0.545968\tvalid-mlogloss:0.610506\n",
      "[69]\ttrain-mlogloss:0.543221\tvalid-mlogloss:0.608496\n",
      "[70]\ttrain-mlogloss:0.541326\tvalid-mlogloss:0.606942\n",
      "[71]\ttrain-mlogloss:0.539303\tvalid-mlogloss:0.605424\n",
      "[72]\ttrain-mlogloss:0.536813\tvalid-mlogloss:0.603583\n",
      "[73]\ttrain-mlogloss:0.534301\tvalid-mlogloss:0.601599\n",
      "[74]\ttrain-mlogloss:0.532282\tvalid-mlogloss:0.600154\n",
      "[75]\ttrain-mlogloss:0.530209\tvalid-mlogloss:0.598514\n",
      "[76]\ttrain-mlogloss:0.528042\tvalid-mlogloss:0.596927\n",
      "[77]\ttrain-mlogloss:0.526417\tvalid-mlogloss:0.595635\n",
      "[78]\ttrain-mlogloss:0.524277\tvalid-mlogloss:0.594087\n",
      "[79]\ttrain-mlogloss:0.522304\tvalid-mlogloss:0.592697\n",
      "[80]\ttrain-mlogloss:0.520434\tvalid-mlogloss:0.591274\n",
      "[81]\ttrain-mlogloss:0.518533\tvalid-mlogloss:0.589946\n",
      "[82]\ttrain-mlogloss:0.516775\tvalid-mlogloss:0.588603\n",
      "[83]\ttrain-mlogloss:0.514891\tvalid-mlogloss:0.587333\n",
      "[84]\ttrain-mlogloss:0.513171\tvalid-mlogloss:0.586085\n",
      "[85]\ttrain-mlogloss:0.511336\tvalid-mlogloss:0.584773\n",
      "[86]\ttrain-mlogloss:0.509759\tvalid-mlogloss:0.583657\n",
      "[87]\ttrain-mlogloss:0.508198\tvalid-mlogloss:0.582465\n",
      "[88]\ttrain-mlogloss:0.506574\tvalid-mlogloss:0.581387\n",
      "[89]\ttrain-mlogloss:0.50486\tvalid-mlogloss:0.580269\n",
      "[90]\ttrain-mlogloss:0.503117\tvalid-mlogloss:0.579108\n",
      "[91]\ttrain-mlogloss:0.501639\tvalid-mlogloss:0.578292\n",
      "[92]\ttrain-mlogloss:0.500083\tvalid-mlogloss:0.577266\n",
      "[93]\ttrain-mlogloss:0.498588\tvalid-mlogloss:0.576308\n",
      "[94]\ttrain-mlogloss:0.496938\tvalid-mlogloss:0.575252\n",
      "[95]\ttrain-mlogloss:0.495597\tvalid-mlogloss:0.574365\n",
      "[96]\ttrain-mlogloss:0.493962\tvalid-mlogloss:0.573261\n",
      "[97]\ttrain-mlogloss:0.492771\tvalid-mlogloss:0.572487\n",
      "[98]\ttrain-mlogloss:0.490992\tvalid-mlogloss:0.571281\n",
      "[99]\ttrain-mlogloss:0.489677\tvalid-mlogloss:0.570366\n",
      "65.19904208183289\n"
     ]
    }
   ],
   "source": [
    "time_s = time.time()\n",
    "obj_xgb = xgb.train(\n",
    "    prm_xgb, dt_xgb, num_round,\n",
    "    [(dt_xgb, 'train'), (dv_xgb, 'valid')])\n",
    "time_t = time.time()\n",
    "print(time_t - time_s)"
   ]
  },
  {
   "cell_type": "code",
   "execution_count": 10,
   "metadata": {
    "collapsed": false
   },
   "outputs": [
    {
     "name": "stdout",
     "output_type": "stream",
     "text": [
      "[1]\tvalid_0's multi_logloss:1.96589\n",
      "[2]\tvalid_0's multi_logloss:1.80069\n",
      "[3]\tvalid_0's multi_logloss:1.67048\n",
      "[4]\tvalid_0's multi_logloss:1.56283\n",
      "[5]\tvalid_0's multi_logloss:1.47489\n",
      "[6]\tvalid_0's multi_logloss:1.39621\n",
      "[7]\tvalid_0's multi_logloss:1.32853\n",
      "[8]\tvalid_0's multi_logloss:1.26781\n",
      "[9]\tvalid_0's multi_logloss:1.21342\n",
      "[10]\tvalid_0's multi_logloss:1.16519\n",
      "[11]\tvalid_0's multi_logloss:1.12163\n",
      "[12]\tvalid_0's multi_logloss:1.08238\n",
      "[13]\tvalid_0's multi_logloss:1.0463\n",
      "[14]\tvalid_0's multi_logloss:1.01403\n",
      "[15]\tvalid_0's multi_logloss:0.984063\n",
      "[16]\tvalid_0's multi_logloss:0.956702\n",
      "[17]\tvalid_0's multi_logloss:0.931502\n",
      "[18]\tvalid_0's multi_logloss:0.909192\n",
      "[19]\tvalid_0's multi_logloss:0.887876\n",
      "[20]\tvalid_0's multi_logloss:0.868728\n",
      "[21]\tvalid_0's multi_logloss:0.850413\n",
      "[22]\tvalid_0's multi_logloss:0.833369\n",
      "[23]\tvalid_0's multi_logloss:0.817609\n",
      "[24]\tvalid_0's multi_logloss:0.802913\n",
      "[25]\tvalid_0's multi_logloss:0.789397\n",
      "[26]\tvalid_0's multi_logloss:0.776372\n",
      "[27]\tvalid_0's multi_logloss:0.76423\n",
      "[28]\tvalid_0's multi_logloss:0.752673\n",
      "[29]\tvalid_0's multi_logloss:0.741827\n",
      "[30]\tvalid_0's multi_logloss:0.731737\n",
      "[31]\tvalid_0's multi_logloss:0.722051\n",
      "[32]\tvalid_0's multi_logloss:0.713151\n",
      "[33]\tvalid_0's multi_logloss:0.704391\n",
      "[34]\tvalid_0's multi_logloss:0.696632\n",
      "[35]\tvalid_0's multi_logloss:0.688742\n",
      "[36]\tvalid_0's multi_logloss:0.681658\n",
      "[37]\tvalid_0's multi_logloss:0.675085\n",
      "[38]\tvalid_0's multi_logloss:0.668548\n",
      "[39]\tvalid_0's multi_logloss:0.66241\n",
      "[40]\tvalid_0's multi_logloss:0.656508\n",
      "[41]\tvalid_0's multi_logloss:0.650796\n",
      "[42]\tvalid_0's multi_logloss:0.64544\n",
      "[43]\tvalid_0's multi_logloss:0.640326\n",
      "[44]\tvalid_0's multi_logloss:0.635305\n",
      "[45]\tvalid_0's multi_logloss:0.630602\n",
      "[46]\tvalid_0's multi_logloss:0.626089\n",
      "[47]\tvalid_0's multi_logloss:0.621855\n",
      "[48]\tvalid_0's multi_logloss:0.617875\n",
      "[49]\tvalid_0's multi_logloss:0.613931\n",
      "[50]\tvalid_0's multi_logloss:0.610281\n",
      "[51]\tvalid_0's multi_logloss:0.606787\n",
      "[52]\tvalid_0's multi_logloss:0.603244\n",
      "[53]\tvalid_0's multi_logloss:0.60016\n",
      "[54]\tvalid_0's multi_logloss:0.596772\n",
      "[55]\tvalid_0's multi_logloss:0.593876\n",
      "[56]\tvalid_0's multi_logloss:0.590949\n",
      "[57]\tvalid_0's multi_logloss:0.587967\n",
      "[58]\tvalid_0's multi_logloss:0.585057\n",
      "[59]\tvalid_0's multi_logloss:0.582379\n",
      "[60]\tvalid_0's multi_logloss:0.579821\n",
      "[61]\tvalid_0's multi_logloss:0.577179\n",
      "[62]\tvalid_0's multi_logloss:0.574902\n",
      "[63]\tvalid_0's multi_logloss:0.572569\n",
      "[64]\tvalid_0's multi_logloss:0.570239\n",
      "[65]\tvalid_0's multi_logloss:0.568136\n",
      "[66]\tvalid_0's multi_logloss:0.566206\n",
      "[67]\tvalid_0's multi_logloss:0.564028\n",
      "[68]\tvalid_0's multi_logloss:0.562047\n",
      "[69]\tvalid_0's multi_logloss:0.560237\n",
      "[70]\tvalid_0's multi_logloss:0.558436\n",
      "[71]\tvalid_0's multi_logloss:0.556645\n",
      "[72]\tvalid_0's multi_logloss:0.554881\n",
      "[73]\tvalid_0's multi_logloss:0.553293\n",
      "[74]\tvalid_0's multi_logloss:0.551645\n",
      "[75]\tvalid_0's multi_logloss:0.550112\n",
      "[76]\tvalid_0's multi_logloss:0.54849\n",
      "[77]\tvalid_0's multi_logloss:0.546681\n",
      "[78]\tvalid_0's multi_logloss:0.54531\n",
      "[79]\tvalid_0's multi_logloss:0.543805\n",
      "[80]\tvalid_0's multi_logloss:0.542504\n",
      "[81]\tvalid_0's multi_logloss:0.541192\n",
      "[82]\tvalid_0's multi_logloss:0.539905\n",
      "[83]\tvalid_0's multi_logloss:0.538626\n",
      "[84]\tvalid_0's multi_logloss:0.537395\n",
      "[85]\tvalid_0's multi_logloss:0.536271\n",
      "[86]\tvalid_0's multi_logloss:0.5353\n",
      "[87]\tvalid_0's multi_logloss:0.534155\n",
      "[88]\tvalid_0's multi_logloss:0.53317\n",
      "[89]\tvalid_0's multi_logloss:0.532131\n",
      "[90]\tvalid_0's multi_logloss:0.531052\n",
      "[91]\tvalid_0's multi_logloss:0.530085\n",
      "[92]\tvalid_0's multi_logloss:0.529274\n",
      "[93]\tvalid_0's multi_logloss:0.528285\n",
      "[94]\tvalid_0's multi_logloss:0.527422\n",
      "[95]\tvalid_0's multi_logloss:0.526541\n",
      "[96]\tvalid_0's multi_logloss:0.525695\n",
      "[97]\tvalid_0's multi_logloss:0.524851\n",
      "[98]\tvalid_0's multi_logloss:0.523952\n",
      "[99]\tvalid_0's multi_logloss:0.523016\n",
      "[100]\tvalid_0's multi_logloss:0.522378\n",
      "16.02284002304077\n"
     ]
    }
   ],
   "source": [
    "time_s = time.time()\n",
    "obj_lgb = lgb.train(\n",
    "    prm_lgb, dt_lgb, num_boost_round=num_round,\n",
    "    valid_sets=dv_lgb)\n",
    "time_t = time.time()\n",
    "print(time_t - time_s)\n",
    "obj_lgb.save_model('output/lgb.txt')"
   ]
  },
  {
   "cell_type": "code",
   "execution_count": 11,
   "metadata": {
    "collapsed": false
   },
   "outputs": [
    {
     "name": "stdout",
     "output_type": "stream",
     "text": [
      "[1]\tvalid_0's multi_logloss:2.01067\n",
      "[2]\tvalid_0's multi_logloss:1.87489\n",
      "[3]\tvalid_0's multi_logloss:1.76438\n",
      "[4]\tvalid_0's multi_logloss:1.67353\n",
      "[5]\tvalid_0's multi_logloss:1.59879\n",
      "[6]\tvalid_0's multi_logloss:1.53027\n",
      "[7]\tvalid_0's multi_logloss:1.47235\n",
      "[8]\tvalid_0's multi_logloss:1.41975\n",
      "[9]\tvalid_0's multi_logloss:1.37189\n",
      "[10]\tvalid_0's multi_logloss:1.32934\n",
      "[11]\tvalid_0's multi_logloss:1.29121\n",
      "[12]\tvalid_0's multi_logloss:1.25617\n",
      "[13]\tvalid_0's multi_logloss:1.22375\n",
      "[14]\tvalid_0's multi_logloss:1.19445\n",
      "[15]\tvalid_0's multi_logloss:1.1664\n",
      "[16]\tvalid_0's multi_logloss:1.14143\n",
      "[17]\tvalid_0's multi_logloss:1.11888\n",
      "[18]\tvalid_0's multi_logloss:1.09807\n",
      "[19]\tvalid_0's multi_logloss:1.07792\n",
      "[20]\tvalid_0's multi_logloss:1.05924\n",
      "[21]\tvalid_0's multi_logloss:1.04119\n",
      "[22]\tvalid_0's multi_logloss:1.02435\n",
      "[23]\tvalid_0's multi_logloss:1.00902\n",
      "[24]\tvalid_0's multi_logloss:0.994402\n",
      "[25]\tvalid_0's multi_logloss:0.981219\n",
      "[26]\tvalid_0's multi_logloss:0.967938\n",
      "[27]\tvalid_0's multi_logloss:0.955806\n",
      "[28]\tvalid_0's multi_logloss:0.943997\n",
      "[29]\tvalid_0's multi_logloss:0.93329\n",
      "[30]\tvalid_0's multi_logloss:0.92275\n",
      "[31]\tvalid_0's multi_logloss:0.912987\n",
      "[32]\tvalid_0's multi_logloss:0.903436\n",
      "[33]\tvalid_0's multi_logloss:0.893949\n",
      "[34]\tvalid_0's multi_logloss:0.886012\n",
      "[35]\tvalid_0's multi_logloss:0.878008\n",
      "[36]\tvalid_0's multi_logloss:0.869912\n",
      "[37]\tvalid_0's multi_logloss:0.862095\n",
      "[38]\tvalid_0's multi_logloss:0.855012\n",
      "[39]\tvalid_0's multi_logloss:0.847866\n",
      "[40]\tvalid_0's multi_logloss:0.840964\n",
      "[41]\tvalid_0's multi_logloss:0.834674\n",
      "[42]\tvalid_0's multi_logloss:0.828241\n",
      "[43]\tvalid_0's multi_logloss:0.822593\n",
      "[44]\tvalid_0's multi_logloss:0.816565\n",
      "[45]\tvalid_0's multi_logloss:0.811401\n",
      "[46]\tvalid_0's multi_logloss:0.805926\n",
      "[47]\tvalid_0's multi_logloss:0.801008\n",
      "[48]\tvalid_0's multi_logloss:0.796294\n",
      "[49]\tvalid_0's multi_logloss:0.791922\n",
      "[50]\tvalid_0's multi_logloss:0.786993\n",
      "[51]\tvalid_0's multi_logloss:0.782985\n",
      "[52]\tvalid_0's multi_logloss:0.778408\n",
      "[53]\tvalid_0's multi_logloss:0.774352\n",
      "[54]\tvalid_0's multi_logloss:0.770591\n",
      "[55]\tvalid_0's multi_logloss:0.766681\n",
      "[56]\tvalid_0's multi_logloss:0.762936\n",
      "[57]\tvalid_0's multi_logloss:0.759445\n",
      "[58]\tvalid_0's multi_logloss:0.755821\n",
      "[59]\tvalid_0's multi_logloss:0.752613\n",
      "[60]\tvalid_0's multi_logloss:0.749157\n",
      "[61]\tvalid_0's multi_logloss:0.745849\n",
      "[62]\tvalid_0's multi_logloss:0.742746\n",
      "[63]\tvalid_0's multi_logloss:0.739965\n",
      "[64]\tvalid_0's multi_logloss:0.737107\n",
      "[65]\tvalid_0's multi_logloss:0.734446\n",
      "[66]\tvalid_0's multi_logloss:0.731742\n",
      "[67]\tvalid_0's multi_logloss:0.729159\n",
      "[68]\tvalid_0's multi_logloss:0.726514\n",
      "[69]\tvalid_0's multi_logloss:0.723947\n",
      "[70]\tvalid_0's multi_logloss:0.721495\n",
      "[71]\tvalid_0's multi_logloss:0.719146\n",
      "[72]\tvalid_0's multi_logloss:0.716951\n",
      "[73]\tvalid_0's multi_logloss:0.714741\n",
      "[74]\tvalid_0's multi_logloss:0.712736\n",
      "[75]\tvalid_0's multi_logloss:0.710544\n",
      "[76]\tvalid_0's multi_logloss:0.708489\n",
      "[77]\tvalid_0's multi_logloss:0.706578\n",
      "[78]\tvalid_0's multi_logloss:0.704697\n",
      "[79]\tvalid_0's multi_logloss:0.702595\n",
      "[80]\tvalid_0's multi_logloss:0.700678\n",
      "[81]\tvalid_0's multi_logloss:0.698942\n",
      "[82]\tvalid_0's multi_logloss:0.697189\n",
      "[83]\tvalid_0's multi_logloss:0.695499\n",
      "[84]\tvalid_0's multi_logloss:0.693559\n",
      "[85]\tvalid_0's multi_logloss:0.692008\n",
      "[86]\tvalid_0's multi_logloss:0.690307\n",
      "[87]\tvalid_0's multi_logloss:0.688656\n",
      "[88]\tvalid_0's multi_logloss:0.68721\n",
      "[89]\tvalid_0's multi_logloss:0.685759\n",
      "[90]\tvalid_0's multi_logloss:0.684212\n",
      "[91]\tvalid_0's multi_logloss:0.682738\n",
      "[92]\tvalid_0's multi_logloss:0.681347\n",
      "[93]\tvalid_0's multi_logloss:0.680014\n",
      "[94]\tvalid_0's multi_logloss:0.678764\n",
      "[95]\tvalid_0's multi_logloss:0.677424\n",
      "[96]\tvalid_0's multi_logloss:0.676253\n",
      "[97]\tvalid_0's multi_logloss:0.67492\n",
      "[98]\tvalid_0's multi_logloss:0.673824\n",
      "[99]\tvalid_0's multi_logloss:0.672577\n",
      "[100]\tvalid_0's multi_logloss:0.671286\n",
      "15.776311874389648\n"
     ]
    }
   ],
   "source": [
    "time_s = time.time()\n",
    "obj_lgb = lgb.train(\n",
    "    prm_lgb, dt_lgb_c, num_boost_round=num_round,\n",
    "    valid_sets=dv_lgb_c,\n",
    "    categorical_feature=list(range(len(x.columns.values))))\n",
    "time_t = time.time()\n",
    "print(time_t - time_s)\n",
    "obj_lgb.save_model('output/lgb_cat.txt')"
   ]
  },
  {
   "cell_type": "code",
   "execution_count": null,
   "metadata": {
    "collapsed": true
   },
   "outputs": [],
   "source": []
  }
 ],
 "metadata": {
  "kernelspec": {
   "display_name": "Python 3",
   "language": "python",
   "name": "python3"
  },
  "language_info": {
   "codemirror_mode": {
    "name": "ipython",
    "version": 3
   },
   "file_extension": ".py",
   "mimetype": "text/x-python",
   "name": "python",
   "nbconvert_exporter": "python",
   "pygments_lexer": "ipython3",
   "version": "3.5.2"
  }
 },
 "nbformat": 4,
 "nbformat_minor": 2
}
