{
 "cells": [
  {
   "cell_type": "markdown",
   "metadata": {},
   "source": [
    "This references the following\n",
    "\n",
    "https://github.com/dmlc/mxnet/blob/master/example/multi-task/example_multi_task.py"
   ]
  },
  {
   "cell_type": "code",
   "execution_count": 1,
   "metadata": {
    "collapsed": true
   },
   "outputs": [],
   "source": [
    "import numpy as np\n",
    "import pandas as pd\n",
    "import mxnet as mx"
   ]
  },
  {
   "cell_type": "code",
   "execution_count": 2,
   "metadata": {
    "collapsed": true
   },
   "outputs": [],
   "source": [
    "num_train = 10\n",
    "num_batch = 3\n",
    "num_cls   = 5"
   ]
  },
  {
   "cell_type": "code",
   "execution_count": 3,
   "metadata": {
    "collapsed": false
   },
   "outputs": [
    {
     "name": "stdout",
     "output_type": "stream",
     "text": [
      "((10, 1, 8, 8), (10, 1, 16, 32), (10, 10))\n"
     ]
    }
   ],
   "source": [
    "# input\n",
    "x1 = np.zeros((num_train, 1, 8, 8))\n",
    "x2 = np.zeros((num_train, 1, 16, 32))\n",
    "x3 = np.zeros((num_train, 10))\n",
    "print((x1.shape, x2.shape, x3.shape))"
   ]
  },
  {
   "cell_type": "code",
   "execution_count": 4,
   "metadata": {
    "collapsed": false
   },
   "outputs": [
    {
     "name": "stdout",
     "output_type": "stream",
     "text": [
      "(10, 5)\n"
     ]
    }
   ],
   "source": [
    "# output\n",
    "y = np.zeros((num_train, num_cls))\n",
    "print(y.shape)"
   ]
  },
  {
   "cell_type": "code",
   "execution_count": 5,
   "metadata": {
    "collapsed": false
   },
   "outputs": [
    {
     "name": "stdout",
     "output_type": "stream",
     "text": [
      "5\n"
     ]
    }
   ],
   "source": [
    "# output(multi-task form)\n",
    "z = [y[:,ii] for ii in range(y.shape[1])]\n",
    "print(len(z))"
   ]
  },
  {
   "cell_type": "code",
   "execution_count": 6,
   "metadata": {
    "collapsed": false
   },
   "outputs": [
    {
     "name": "stdout",
     "output_type": "stream",
     "text": [
      "[('_0_data', (3, 1, 8, 8)), ('_1_data', (3, 1, 16, 32)), ('_2_data', (3, 10))]\n",
      "[('_0_softmax_label', (3,)), ('_1_softmax_label', (3,)), ('_2_softmax_label', (3,)), ('_3_softmax_label', (3,)), ('_4_softmax_label', (3,))]\n"
     ]
    }
   ],
   "source": [
    "# official DataIter\n",
    "mx_dat0 = mx.io.NDArrayIter(\n",
    "    data=[x1, x2, x3],\n",
    "    label=z,\n",
    "    batch_size=num_batch\n",
    ")\n",
    "print(mx_dat0.provide_data)\n",
    "print(mx_dat0.provide_label)"
   ]
  },
  {
   "cell_type": "code",
   "execution_count": 7,
   "metadata": {
    "collapsed": false
   },
   "outputs": [],
   "source": [
    "# custom DataIter\n",
    "class mx_DataIter(mx.io.NDArrayIter):\n",
    "    def __init__(self, data, label=None,\n",
    "                 batch_size=1, shuffle=False, last_batch_handle='pad'):\n",
    "        super(mx_DataIter, self).__init__(\n",
    "            data, label,\n",
    "            batch_size, shuffle, last_batch_handle)\n",
    "        self.data_name = None\n",
    "        self.label_name = None\n",
    "    def set_name(self, data_name, label_name):\n",
    "        self.data_name = data_name\n",
    "        self.label_name = label_name\n",
    "    @property\n",
    "    def provide_data(self):\n",
    "        return [\n",
    "            (self.data_name[ii],\n",
    "             tuple([self.batch_size] + list(self.data[ii][1].shape[1:])))\n",
    "            for ii in range(len(self.data))\n",
    "        ]\n",
    "    @property\n",
    "    def provide_label(self):\n",
    "        return [\n",
    "            (self.label_name[ii],\n",
    "             tuple([self.batch_size] + list(self.label[ii][1].shape[1:])))\n",
    "            for ii in range(len(self.label))\n",
    "        ]"
   ]
  },
  {
   "cell_type": "code",
   "execution_count": 8,
   "metadata": {
    "collapsed": false
   },
   "outputs": [
    {
     "name": "stdout",
     "output_type": "stream",
     "text": [
      "[('input0', (3, 1, 8, 8)), ('input1', (3, 1, 16, 32)), ('input2', (3, 10))]\n",
      "[('clf0_label', (3,)), ('clf1_label', (3,)), ('clf2_label', (3,)), ('clf3_label', (3,)), ('clf4_label', (3,))]\n"
     ]
    }
   ],
   "source": [
    "mx_dat1 = mx_DataIter(\n",
    "    data=[x1, x2, x3],\n",
    "    label=z,\n",
    "    batch_size=num_batch\n",
    ")\n",
    "mx_dat1.set_name(\n",
    "    ['input'+str(ii) for ii in range(3)],\n",
    "    ['clf'+str(ii)+'_label' for ii in range(num_cls)]\n",
    ")\n",
    "print(mx_dat1.provide_data)\n",
    "print(mx_dat1.provide_label)"
   ]
  },
  {
   "cell_type": "code",
   "execution_count": 9,
   "metadata": {
    "collapsed": false
   },
   "outputs": [],
   "source": [
    "# network\n",
    "data0 = mx.sym.Variable('input0')\n",
    "data1 = mx.sym.Variable('input1')\n",
    "data2 = mx.sym.Variable('input2')\n",
    "def get_symbol(sym, prefix=''):\n",
    "    net = mx.sym.BatchNorm(sym,\n",
    "                           name=prefix+'_bn')\n",
    "    net = mx.sym.FullyConnected(net,\n",
    "                                name=prefix+'_fc',\n",
    "                                num_hidden=3)\n",
    "    return net\n",
    "net0 = mx.sym.Flatten(data0)\n",
    "net1 = mx.sym.Flatten(data1)\n",
    "net2 = get_symbol(data2, 'i2')\n",
    "netc  = mx.sym.Concat(*[net0, net1, net2])\n",
    "fc   = []\n",
    "out  = []\n",
    "for ii in range(num_cls):\n",
    "    fc.append(mx.sym.FullyConnected(netc,\n",
    "                                    name='fc'+str(ii),\n",
    "                                    num_hidden=2))\n",
    "    out.append(mx.sym.SoftmaxOutput(fc[ii],\n",
    "                                    name='clf'+str(ii)))\n",
    "net = mx.sym.Group(out)"
   ]
  },
  {
   "cell_type": "code",
   "execution_count": 10,
   "metadata": {
    "collapsed": false
   },
   "outputs": [
    {
     "data": {
      "image/svg+xml": [
       "<?xml version=\"1.0\" encoding=\"UTF-8\" standalone=\"no\"?>\n",
       "<!DOCTYPE svg PUBLIC \"-//W3C//DTD SVG 1.1//EN\"\n",
       " \"http://www.w3.org/Graphics/SVG/1.1/DTD/svg11.dtd\">\n",
       "<!-- Generated by graphviz version 2.38.0 (20140413.2041)\n",
       " -->\n",
       "<!-- Title: plot Pages: 1 -->\n",
       "<svg width=\"550pt\" height=\"442pt\"\n",
       " viewBox=\"0.00 0.00 550.00 442.00\" xmlns=\"http://www.w3.org/2000/svg\" xmlns:xlink=\"http://www.w3.org/1999/xlink\">\n",
       "<g id=\"graph0\" class=\"graph\" transform=\"scale(1 1) rotate(0) translate(4 438)\">\n",
       "<title>plot</title>\n",
       "<polygon fill=\"white\" stroke=\"none\" points=\"-4,4 -4,-438 546,-438 546,4 -4,4\"/>\n",
       "<!-- input0 -->\n",
       "<g id=\"node1\" class=\"node\"><title>input0</title>\n",
       "<polygon fill=\"#8dd3c7\" stroke=\"black\" points=\"206,-58 112,-58 112,-0 206,-0 206,-58\"/>\n",
       "<text text-anchor=\"middle\" x=\"159\" y=\"-24.8\" font-family=\"Times,serif\" font-size=\"14.00\">input0</text>\n",
       "</g>\n",
       "<!-- flatten0 -->\n",
       "<g id=\"node2\" class=\"node\"><title>flatten0</title>\n",
       "<polygon fill=\"#fdb462\" stroke=\"black\" points=\"206,-152 112,-152 112,-94 206,-94 206,-152\"/>\n",
       "<text text-anchor=\"middle\" x=\"159\" y=\"-118.8\" font-family=\"Times,serif\" font-size=\"14.00\">Flatten</text>\n",
       "</g>\n",
       "<!-- flatten0&#45;&gt;input0 -->\n",
       "<g id=\"edge1\" class=\"edge\"><title>flatten0&#45;&gt;input0</title>\n",
       "<path fill=\"none\" stroke=\"black\" d=\"M159,-83.7443C159,-75.2043 159,-66.2977 159,-58.2479\"/>\n",
       "<polygon fill=\"black\" stroke=\"black\" points=\"159,-93.8971 154.5,-83.897 159,-88.8971 159,-83.8971 159,-83.8971 159,-83.8971 159,-88.8971 163.5,-83.8971 159,-93.8971 159,-93.8971\"/>\n",
       "</g>\n",
       "<!-- flatten1 -->\n",
       "<g id=\"node3\" class=\"node\"><title>flatten1</title>\n",
       "<polygon fill=\"#fdb462\" stroke=\"black\" points=\"318,-152 224,-152 224,-94 318,-94 318,-152\"/>\n",
       "<text text-anchor=\"middle\" x=\"271\" y=\"-118.8\" font-family=\"Times,serif\" font-size=\"14.00\">Flatten</text>\n",
       "</g>\n",
       "<!-- i2_bn -->\n",
       "<g id=\"node4\" class=\"node\"><title>i2_bn</title>\n",
       "<polygon fill=\"#bebada\" stroke=\"black\" points=\"430,-58 336,-58 336,-0 430,-0 430,-58\"/>\n",
       "<text text-anchor=\"middle\" x=\"383\" y=\"-24.8\" font-family=\"Times,serif\" font-size=\"14.00\">BatchNorm</text>\n",
       "</g>\n",
       "<!-- i2_fc -->\n",
       "<g id=\"node5\" class=\"node\"><title>i2_fc</title>\n",
       "<polygon fill=\"#fb8072\" stroke=\"black\" points=\"430,-152 336,-152 336,-94 430,-94 430,-152\"/>\n",
       "<text text-anchor=\"middle\" x=\"383\" y=\"-125.8\" font-family=\"Times,serif\" font-size=\"14.00\">FullyConnected</text>\n",
       "<text text-anchor=\"middle\" x=\"383\" y=\"-111.8\" font-family=\"Times,serif\" font-size=\"14.00\">3</text>\n",
       "</g>\n",
       "<!-- i2_fc&#45;&gt;i2_bn -->\n",
       "<g id=\"edge2\" class=\"edge\"><title>i2_fc&#45;&gt;i2_bn</title>\n",
       "<path fill=\"none\" stroke=\"black\" d=\"M383,-83.7443C383,-75.2043 383,-66.2977 383,-58.2479\"/>\n",
       "<polygon fill=\"black\" stroke=\"black\" points=\"383,-93.8971 378.5,-83.897 383,-88.8971 383,-83.8971 383,-83.8971 383,-83.8971 383,-88.8971 387.5,-83.8971 383,-93.8971 383,-93.8971\"/>\n",
       "</g>\n",
       "<!-- concat0 -->\n",
       "<g id=\"node6\" class=\"node\"><title>concat0</title>\n",
       "<polygon fill=\"#fdb462\" stroke=\"black\" points=\"318,-246 224,-246 224,-188 318,-188 318,-246\"/>\n",
       "<text text-anchor=\"middle\" x=\"271\" y=\"-212.8\" font-family=\"Times,serif\" font-size=\"14.00\">Concat</text>\n",
       "</g>\n",
       "<!-- concat0&#45;&gt;flatten0 -->\n",
       "<g id=\"edge3\" class=\"edge\"><title>concat0&#45;&gt;flatten0</title>\n",
       "<path fill=\"none\" stroke=\"black\" d=\"M228.852,-181.378C217.151,-171.767 204.589,-161.448 193.389,-152.248\"/>\n",
       "<polygon fill=\"black\" stroke=\"black\" points=\"236.788,-187.897 226.204,-185.027 232.924,-184.723 229.06,-181.55 229.06,-181.55 229.06,-181.55 232.924,-184.723 231.917,-178.072 236.788,-187.897 236.788,-187.897\"/>\n",
       "</g>\n",
       "<!-- concat0&#45;&gt;flatten1 -->\n",
       "<g id=\"edge4\" class=\"edge\"><title>concat0&#45;&gt;flatten1</title>\n",
       "<path fill=\"none\" stroke=\"black\" d=\"M271,-177.744C271,-169.204 271,-160.298 271,-152.248\"/>\n",
       "<polygon fill=\"black\" stroke=\"black\" points=\"271,-187.897 266.5,-177.897 271,-182.897 271,-177.897 271,-177.897 271,-177.897 271,-182.897 275.5,-177.897 271,-187.897 271,-187.897\"/>\n",
       "</g>\n",
       "<!-- concat0&#45;&gt;i2_fc -->\n",
       "<g id=\"edge5\" class=\"edge\"><title>concat0&#45;&gt;i2_fc</title>\n",
       "<path fill=\"none\" stroke=\"black\" d=\"M313.148,-181.378C324.849,-171.767 337.411,-161.448 348.611,-152.248\"/>\n",
       "<polygon fill=\"black\" stroke=\"black\" points=\"305.212,-187.897 310.083,-178.072 309.076,-184.723 312.94,-181.55 312.94,-181.55 312.94,-181.55 309.076,-184.723 315.796,-185.027 305.212,-187.897 305.212,-187.897\"/>\n",
       "</g>\n",
       "<!-- fc0 -->\n",
       "<g id=\"node7\" class=\"node\"><title>fc0</title>\n",
       "<polygon fill=\"#fb8072\" stroke=\"black\" points=\"94,-340 -7.10543e-15,-340 -7.10543e-15,-282 94,-282 94,-340\"/>\n",
       "<text text-anchor=\"middle\" x=\"47\" y=\"-313.8\" font-family=\"Times,serif\" font-size=\"14.00\">FullyConnected</text>\n",
       "<text text-anchor=\"middle\" x=\"47\" y=\"-299.8\" font-family=\"Times,serif\" font-size=\"14.00\">2</text>\n",
       "</g>\n",
       "<!-- fc0&#45;&gt;concat0 -->\n",
       "<g id=\"edge6\" class=\"edge\"><title>fc0&#45;&gt;concat0</title>\n",
       "<path fill=\"none\" stroke=\"black\" d=\"M103.633,-281.857C149.115,-262.126 192.022,-246.022 223.784,-234.559\"/>\n",
       "<polygon fill=\"black\" stroke=\"black\" points=\"94.199,-285.986 101.556,-277.854 98.7795,-283.981 103.36,-281.977 103.36,-281.977 103.36,-281.977 98.7795,-283.981 105.164,-286.099 94.199,-285.986 94.199,-285.986\"/>\n",
       "</g>\n",
       "<!-- clf0 -->\n",
       "<g id=\"node8\" class=\"node\"><title>clf0</title>\n",
       "<polygon fill=\"#fccde5\" stroke=\"black\" points=\"94,-434 -7.10543e-15,-434 -7.10543e-15,-376 94,-376 94,-434\"/>\n",
       "<text text-anchor=\"middle\" x=\"47\" y=\"-400.8\" font-family=\"Times,serif\" font-size=\"14.00\">SoftmaxOutput</text>\n",
       "</g>\n",
       "<!-- clf0&#45;&gt;fc0 -->\n",
       "<g id=\"edge7\" class=\"edge\"><title>clf0&#45;&gt;fc0</title>\n",
       "<path fill=\"none\" stroke=\"black\" d=\"M47,-365.744C47,-357.204 47,-348.298 47,-340.248\"/>\n",
       "<polygon fill=\"black\" stroke=\"black\" points=\"47,-375.897 42.5001,-365.897 47,-370.897 47.0001,-365.897 47.0001,-365.897 47.0001,-365.897 47,-370.897 51.5001,-365.897 47,-375.897 47,-375.897\"/>\n",
       "</g>\n",
       "<!-- fc1 -->\n",
       "<g id=\"node9\" class=\"node\"><title>fc1</title>\n",
       "<polygon fill=\"#fb8072\" stroke=\"black\" points=\"206,-340 112,-340 112,-282 206,-282 206,-340\"/>\n",
       "<text text-anchor=\"middle\" x=\"159\" y=\"-313.8\" font-family=\"Times,serif\" font-size=\"14.00\">FullyConnected</text>\n",
       "<text text-anchor=\"middle\" x=\"159\" y=\"-299.8\" font-family=\"Times,serif\" font-size=\"14.00\">2</text>\n",
       "</g>\n",
       "<!-- fc1&#45;&gt;concat0 -->\n",
       "<g id=\"edge8\" class=\"edge\"><title>fc1&#45;&gt;concat0</title>\n",
       "<path fill=\"none\" stroke=\"black\" d=\"M201.148,-275.378C212.849,-265.767 225.411,-255.448 236.611,-246.248\"/>\n",
       "<polygon fill=\"black\" stroke=\"black\" points=\"193.212,-281.897 198.083,-272.072 197.076,-278.723 200.94,-275.55 200.94,-275.55 200.94,-275.55 197.076,-278.723 203.796,-279.027 193.212,-281.897 193.212,-281.897\"/>\n",
       "</g>\n",
       "<!-- clf1 -->\n",
       "<g id=\"node10\" class=\"node\"><title>clf1</title>\n",
       "<polygon fill=\"#fccde5\" stroke=\"black\" points=\"206,-434 112,-434 112,-376 206,-376 206,-434\"/>\n",
       "<text text-anchor=\"middle\" x=\"159\" y=\"-400.8\" font-family=\"Times,serif\" font-size=\"14.00\">SoftmaxOutput</text>\n",
       "</g>\n",
       "<!-- clf1&#45;&gt;fc1 -->\n",
       "<g id=\"edge9\" class=\"edge\"><title>clf1&#45;&gt;fc1</title>\n",
       "<path fill=\"none\" stroke=\"black\" d=\"M159,-365.744C159,-357.204 159,-348.298 159,-340.248\"/>\n",
       "<polygon fill=\"black\" stroke=\"black\" points=\"159,-375.897 154.5,-365.897 159,-370.897 159,-365.897 159,-365.897 159,-365.897 159,-370.897 163.5,-365.897 159,-375.897 159,-375.897\"/>\n",
       "</g>\n",
       "<!-- fc2 -->\n",
       "<g id=\"node11\" class=\"node\"><title>fc2</title>\n",
       "<polygon fill=\"#fb8072\" stroke=\"black\" points=\"318,-340 224,-340 224,-282 318,-282 318,-340\"/>\n",
       "<text text-anchor=\"middle\" x=\"271\" y=\"-313.8\" font-family=\"Times,serif\" font-size=\"14.00\">FullyConnected</text>\n",
       "<text text-anchor=\"middle\" x=\"271\" y=\"-299.8\" font-family=\"Times,serif\" font-size=\"14.00\">2</text>\n",
       "</g>\n",
       "<!-- fc2&#45;&gt;concat0 -->\n",
       "<g id=\"edge10\" class=\"edge\"><title>fc2&#45;&gt;concat0</title>\n",
       "<path fill=\"none\" stroke=\"black\" d=\"M271,-271.744C271,-263.204 271,-254.298 271,-246.248\"/>\n",
       "<polygon fill=\"black\" stroke=\"black\" points=\"271,-281.897 266.5,-271.897 271,-276.897 271,-271.897 271,-271.897 271,-271.897 271,-276.897 275.5,-271.897 271,-281.897 271,-281.897\"/>\n",
       "</g>\n",
       "<!-- clf2 -->\n",
       "<g id=\"node12\" class=\"node\"><title>clf2</title>\n",
       "<polygon fill=\"#fccde5\" stroke=\"black\" points=\"318,-434 224,-434 224,-376 318,-376 318,-434\"/>\n",
       "<text text-anchor=\"middle\" x=\"271\" y=\"-400.8\" font-family=\"Times,serif\" font-size=\"14.00\">SoftmaxOutput</text>\n",
       "</g>\n",
       "<!-- clf2&#45;&gt;fc2 -->\n",
       "<g id=\"edge11\" class=\"edge\"><title>clf2&#45;&gt;fc2</title>\n",
       "<path fill=\"none\" stroke=\"black\" d=\"M271,-365.744C271,-357.204 271,-348.298 271,-340.248\"/>\n",
       "<polygon fill=\"black\" stroke=\"black\" points=\"271,-375.897 266.5,-365.897 271,-370.897 271,-365.897 271,-365.897 271,-365.897 271,-370.897 275.5,-365.897 271,-375.897 271,-375.897\"/>\n",
       "</g>\n",
       "<!-- fc3 -->\n",
       "<g id=\"node13\" class=\"node\"><title>fc3</title>\n",
       "<polygon fill=\"#fb8072\" stroke=\"black\" points=\"430,-340 336,-340 336,-282 430,-282 430,-340\"/>\n",
       "<text text-anchor=\"middle\" x=\"383\" y=\"-313.8\" font-family=\"Times,serif\" font-size=\"14.00\">FullyConnected</text>\n",
       "<text text-anchor=\"middle\" x=\"383\" y=\"-299.8\" font-family=\"Times,serif\" font-size=\"14.00\">2</text>\n",
       "</g>\n",
       "<!-- fc3&#45;&gt;concat0 -->\n",
       "<g id=\"edge12\" class=\"edge\"><title>fc3&#45;&gt;concat0</title>\n",
       "<path fill=\"none\" stroke=\"black\" d=\"M340.852,-275.378C329.151,-265.767 316.589,-255.448 305.389,-246.248\"/>\n",
       "<polygon fill=\"black\" stroke=\"black\" points=\"348.788,-281.897 338.204,-279.027 344.924,-278.723 341.06,-275.55 341.06,-275.55 341.06,-275.55 344.924,-278.723 343.917,-272.072 348.788,-281.897 348.788,-281.897\"/>\n",
       "</g>\n",
       "<!-- clf3 -->\n",
       "<g id=\"node14\" class=\"node\"><title>clf3</title>\n",
       "<polygon fill=\"#fccde5\" stroke=\"black\" points=\"430,-434 336,-434 336,-376 430,-376 430,-434\"/>\n",
       "<text text-anchor=\"middle\" x=\"383\" y=\"-400.8\" font-family=\"Times,serif\" font-size=\"14.00\">SoftmaxOutput</text>\n",
       "</g>\n",
       "<!-- clf3&#45;&gt;fc3 -->\n",
       "<g id=\"edge13\" class=\"edge\"><title>clf3&#45;&gt;fc3</title>\n",
       "<path fill=\"none\" stroke=\"black\" d=\"M383,-365.744C383,-357.204 383,-348.298 383,-340.248\"/>\n",
       "<polygon fill=\"black\" stroke=\"black\" points=\"383,-375.897 378.5,-365.897 383,-370.897 383,-365.897 383,-365.897 383,-365.897 383,-370.897 387.5,-365.897 383,-375.897 383,-375.897\"/>\n",
       "</g>\n",
       "<!-- fc4 -->\n",
       "<g id=\"node15\" class=\"node\"><title>fc4</title>\n",
       "<polygon fill=\"#fb8072\" stroke=\"black\" points=\"542,-340 448,-340 448,-282 542,-282 542,-340\"/>\n",
       "<text text-anchor=\"middle\" x=\"495\" y=\"-313.8\" font-family=\"Times,serif\" font-size=\"14.00\">FullyConnected</text>\n",
       "<text text-anchor=\"middle\" x=\"495\" y=\"-299.8\" font-family=\"Times,serif\" font-size=\"14.00\">2</text>\n",
       "</g>\n",
       "<!-- fc4&#45;&gt;concat0 -->\n",
       "<g id=\"edge14\" class=\"edge\"><title>fc4&#45;&gt;concat0</title>\n",
       "<path fill=\"none\" stroke=\"black\" d=\"M438.367,-281.857C392.885,-262.126 349.978,-246.022 318.216,-234.559\"/>\n",
       "<polygon fill=\"black\" stroke=\"black\" points=\"447.801,-285.986 436.836,-286.099 443.221,-283.981 438.64,-281.977 438.64,-281.977 438.64,-281.977 443.221,-283.981 440.444,-277.854 447.801,-285.986 447.801,-285.986\"/>\n",
       "</g>\n",
       "<!-- clf4 -->\n",
       "<g id=\"node16\" class=\"node\"><title>clf4</title>\n",
       "<polygon fill=\"#fccde5\" stroke=\"black\" points=\"542,-434 448,-434 448,-376 542,-376 542,-434\"/>\n",
       "<text text-anchor=\"middle\" x=\"495\" y=\"-400.8\" font-family=\"Times,serif\" font-size=\"14.00\">SoftmaxOutput</text>\n",
       "</g>\n",
       "<!-- clf4&#45;&gt;fc4 -->\n",
       "<g id=\"edge15\" class=\"edge\"><title>clf4&#45;&gt;fc4</title>\n",
       "<path fill=\"none\" stroke=\"black\" d=\"M495,-365.744C495,-357.204 495,-348.298 495,-340.248\"/>\n",
       "<polygon fill=\"black\" stroke=\"black\" points=\"495,-375.897 490.5,-365.897 495,-370.897 495,-365.897 495,-365.897 495,-365.897 495,-370.897 499.5,-365.897 495,-375.897 495,-375.897\"/>\n",
       "</g>\n",
       "</g>\n",
       "</svg>\n"
      ],
      "text/plain": [
       "<graphviz.dot.Digraph at 0x1191d4160>"
      ]
     },
     "execution_count": 10,
     "metadata": {},
     "output_type": "execute_result"
    }
   ],
   "source": [
    "mx.visualization.plot_network(net)"
   ]
  },
  {
   "cell_type": "code",
   "execution_count": 11,
   "metadata": {
    "collapsed": false
   },
   "outputs": [],
   "source": [
    "model = mx.model.FeedForward.create(\n",
    "    net,\n",
    "    X=mx_dat1,\n",
    "    num_epoch=10,\n",
    ")"
   ]
  },
  {
   "cell_type": "code",
   "execution_count": null,
   "metadata": {
    "collapsed": true
   },
   "outputs": [],
   "source": []
  }
 ],
 "metadata": {
  "kernelspec": {
   "display_name": "Python 3",
   "language": "python",
   "name": "python3"
  },
  "language_info": {
   "codemirror_mode": {
    "name": "ipython",
    "version": 3
   },
   "file_extension": ".py",
   "mimetype": "text/x-python",
   "name": "python",
   "nbconvert_exporter": "python",
   "pygments_lexer": "ipython3",
   "version": "3.5.2"
  }
 },
 "nbformat": 4,
 "nbformat_minor": 1
}
