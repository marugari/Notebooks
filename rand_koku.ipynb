{
 "cells": [
  {
   "cell_type": "code",
   "execution_count": 1,
   "metadata": {
    "collapsed": true
   },
   "outputs": [],
   "source": [
    "import numpy as np\n",
    "import scipy as sp\n",
    "import matplotlib.pyplot as plt\n",
    "import seaborn\n",
    "%matplotlib inline"
   ]
  },
  {
   "cell_type": "code",
   "execution_count": 2,
   "metadata": {
    "collapsed": true
   },
   "outputs": [],
   "source": [
    "seed = 20161101\n",
    "N    = 100000000"
   ]
  },
  {
   "cell_type": "code",
   "execution_count": 3,
   "metadata": {
    "collapsed": true
   },
   "outputs": [],
   "source": [
    "def rand_koku(n, seed):\n",
    "    np.random.seed(seed)\n",
    "    u1 = np.random.rand(n)\n",
    "    u2 = np.random.rand(n)\n",
    "    u3 = np.random.rand(n)\n",
    "    u4 = np.random.rand(n)\n",
    "    u5 = np.random.rand(n)\n",
    "    return (u1, (u1+u2+u3+u4+u5)/5.0)"
   ]
  },
  {
   "cell_type": "code",
   "execution_count": 4,
   "metadata": {
    "collapsed": false
   },
   "outputs": [
    {
     "name": "stdout",
     "output_type": "stream",
     "text": [
      "(100000000, 100000000)\n"
     ]
    }
   ],
   "source": [
    "u, uk = rand_koku(N, seed)\n",
    "print((len(u), len(uk)))"
   ]
  },
  {
   "cell_type": "code",
   "execution_count": 5,
   "metadata": {
    "collapsed": false
   },
   "outputs": [
    {
     "data": {
      "text/plain": [
       "<matplotlib.legend.Legend at 0x10f41a588>"
      ]
     },
     "execution_count": 5,
     "metadata": {},
     "output_type": "execute_result"
    },
    {
     "data": {
      "image/png": "[encoded data removed]",
      "text/plain": [
       "<matplotlib.figure.Figure at 0x10f396a58>"
      ]
     },
     "metadata": {},
     "output_type": "display_data"
    }
   ],
   "source": [
    "plt.figure(figsize=(10, 5))\n",
    "plt.hist(u, label='unif',\n",
    "         bins=30, normed=True, alpha=0.5)\n",
    "plt.hist(uk, label='koku',\n",
    "         bins=30, normed=True, alpha=0.5)\n",
    "plt.legend()"
   ]
  },
  {
   "cell_type": "code",
   "execution_count": 6,
   "metadata": {
    "collapsed": true
   },
   "outputs": [],
   "source": [
    "def normal_box_muller(n, seed):\n",
    "    np.random.seed(seed)\n",
    "    nm = int(n / 2)\n",
    "    u  = np.random.rand(n)\n",
    "    u1 = u[:nm]\n",
    "    u2 = u[nm:n]\n",
    "    r  = -2.0 * np.log(u1)\n",
    "    v  = 2.0 * np.pi * u2\n",
    "    z1 = np.sqrt(r) * np.cos(v)\n",
    "    z2 = np.sqrt(r) * np.sin(v)\n",
    "    z  = np.concatenate([z1, z2, -z1, -z2])\n",
    "    return z"
   ]
  },
  {
   "cell_type": "code",
   "execution_count": 7,
   "metadata": {
    "collapsed": false
   },
   "outputs": [
    {
     "name": "stdout",
     "output_type": "stream",
     "text": [
      "200000000\n",
      "3.095e-05\n"
     ]
    }
   ],
   "source": [
    "z_bm = normal_box_muller(N, seed)\n",
    "print(len(z_bm))\n",
    "print((z_bm < -4.0).mean())"
   ]
  },
  {
   "cell_type": "code",
   "execution_count": 8,
   "metadata": {
    "collapsed": false
   },
   "outputs": [],
   "source": [
    "def normal_moro(n, seed):\n",
    "    np.random.seed(seed)\n",
    "    a0  = 2.50662823884\n",
    "    a1  = -18.61500062529\n",
    "    a2  = 41.39119773534\n",
    "    a3  = -25.44106049637\n",
    "    b0  = -8.47351093090\n",
    "    b1  = 23.08336743743\n",
    "    b2  = -21.06224101826\n",
    "    b3  = 3.13082909833\n",
    "    c0  = 0.3374754822726147\n",
    "    c1  = 0.9761690190917186\n",
    "    c2  = 0.1607979714918209\n",
    "    c3  = 0.0276438810333863\n",
    "    c4  = 0.0038405729373609\n",
    "    c5  = 0.0003951896511919\n",
    "    c6  = 0.0000321767881768\n",
    "    c7  = 0.0000002888167364\n",
    "    c8  = 0.0000003960315187\n",
    "    u   = np.random.rand(n)\n",
    "    y   = u - 0.5\n",
    "    f1  = (np.abs(y) < 0.42)\n",
    "    y1  = y[f1]\n",
    "    r   = y1 ** 2\n",
    "    num = ((a3*r+a2)*r+a1)*r+a0\n",
    "    den = (((b3*r+b2)*r+b1)*r+b0)*r+1.0\n",
    "    x1  = y1 * num / den\n",
    "    f2  = np.logical_not(f1)\n",
    "    u2  = u[f2]\n",
    "    y2  = y[f2]\n",
    "    r   = np.where(y2 > 0.0, 1.0 - u2, u2)\n",
    "    r   = np.log(-np.log(r))\n",
    "    x2  = c0+r*(c1+r*(c2+r*(c3+r*(c4+r*(c5+r*(c6+r*(c7+r*c8)))))))\n",
    "    x2  = np.where(y2 < 0.0, -x2, x2)\n",
    "    z1  = np.concatenate([x1, x2])\n",
    "    z   = np.concatenate([z1, -z1])\n",
    "    return z"
   ]
  },
  {
   "cell_type": "code",
   "execution_count": 9,
   "metadata": {
    "collapsed": false
   },
   "outputs": [
    {
     "name": "stdout",
     "output_type": "stream",
     "text": [
      "200000000\n",
      "3.169e-05\n"
     ]
    }
   ],
   "source": [
    "z_m = normal_moro(N, seed)\n",
    "print(len(z_m))\n",
    "print((z_m < -4.0).mean())"
   ]
  },
  {
   "cell_type": "code",
   "execution_count": 10,
   "metadata": {
    "collapsed": false
   },
   "outputs": [
    {
     "data": {
      "text/plain": [
       "<matplotlib.legend.Legend at 0x1099d8320>"
      ]
     },
     "execution_count": 10,
     "metadata": {},
     "output_type": "execute_result"
    },
    {
     "data": {
      "image/png": "[encoded data removed]",
      "text/plain": [
       "<matplotlib.figure.Figure at 0x10f989358>"
      ]
     },
     "metadata": {},
     "output_type": "display_data"
    }
   ],
   "source": [
    "plt.figure(figsize=(10, 5))\n",
    "plt.hist(z_bm[np.abs(z_bm)<0.5], label='Box-Muller',\n",
    "         bins=30, normed=True, alpha=0.5)\n",
    "plt.hist(z_m[np.abs(z_m)<0.5], label='Moro',\n",
    "         bins=30, normed=True, alpha=0.5)\n",
    "plt.legend()"
   ]
  },
  {
   "cell_type": "code",
   "execution_count": 11,
   "metadata": {
    "collapsed": false
   },
   "outputs": [
    {
     "data": {
      "text/plain": [
       "<matplotlib.legend.Legend at 0x110bca748>"
      ]
     },
     "execution_count": 11,
     "metadata": {},
     "output_type": "execute_result"
    },
    {
     "data": {
      "image/png": "[encoded data removed]",
      "text/plain": [
       "<matplotlib.figure.Figure at 0x1109f4b38>"
      ]
     },
     "metadata": {},
     "output_type": "display_data"
    }
   ],
   "source": [
    "plt.figure(figsize=(10, 5))\n",
    "plt.hist(z_bm[z_bm<-4.0], label='Box-Muller',\n",
    "         bins=30, normed=True, alpha=0.5)\n",
    "plt.hist(z_m[z_m<-4.0], label='Moro',\n",
    "         bins=30, normed=True, alpha=0.5)\n",
    "plt.legend()"
   ]
  },
  {
   "cell_type": "code",
   "execution_count": null,
   "metadata": {
    "collapsed": true
   },
   "outputs": [],
   "source": []
  }
 ],
 "metadata": {
  "kernelspec": {
   "display_name": "Python 3",
   "language": "python",
   "name": "python3"
  },
  "language_info": {
   "codemirror_mode": {
    "name": "ipython",
    "version": 3
   },
   "file_extension": ".py",
   "mimetype": "text/x-python",
   "name": "python",
   "nbconvert_exporter": "python",
   "pygments_lexer": "ipython3",
   "version": "3.5.2"
  }
 },
 "nbformat": 4,
 "nbformat_minor": 1
}
