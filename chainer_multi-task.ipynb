{
 "cells": [
  {
   "cell_type": "markdown",
   "metadata": {
    "deletable": true,
    "editable": true
   },
   "source": [
    "[Chainerでマルチタスクニューラルネットワークを実装した](http://szdr.hatenablog.com/entry/2017/03/06/233530)の改変"
   ]
  },
  {
   "cell_type": "code",
   "execution_count": 1,
   "metadata": {
    "collapsed": true,
    "deletable": true,
    "editable": true
   },
   "outputs": [],
   "source": [
    "import numpy as np\n",
    "import pandas as pd\n",
    "import chainer\n",
    "import chainer.links as L\n",
    "import chainer.functions as F\n",
    "import chainer.computational_graph as c\n",
    "from sklearn import datasets"
   ]
  },
  {
   "cell_type": "markdown",
   "metadata": {
    "deletable": true,
    "editable": true
   },
   "source": [
    "ネットワークの定義"
   ]
  },
  {
   "cell_type": "code",
   "execution_count": 2,
   "metadata": {
    "collapsed": true,
    "deletable": true,
    "editable": true
   },
   "outputs": [],
   "source": [
    "class SharedNet(chainer.Chain):\n",
    "    def __init__(self, n_out):\n",
    "        super(SharedNet, self).__init__(\n",
    "            l1=L.Linear(None, n_out)\n",
    "        )\n",
    "    def __call__(self, x):\n",
    "        a = self.l1(x)\n",
    "        z = F.sigmoid(a)\n",
    "        return z\n",
    "class SeparatedNet(chainer.Chain):\n",
    "    def __init__(self, n_out):\n",
    "        super(SeparatedNet, self).__init__(\n",
    "            l1=L.Linear(None, n_out)\n",
    "        )\n",
    "    def __call__(self, x):\n",
    "        a = self.l1(x)\n",
    "        z = a\n",
    "        return z\n",
    "class CombinedNet(chainer.Chain):\n",
    "    def __init__(self, shared, separated0, separated1):\n",
    "        super(CombinedNet, self).__init__(\n",
    "            shared=shared,\n",
    "            separated0=separated0,\n",
    "            separated1=separated1\n",
    "        )\n",
    "    def __call__(self, x1, x2):\n",
    "        s  = self.shared(x1)\n",
    "        # task0の出力\n",
    "        s0 = self.separated0(s)\n",
    "        # task1の出力\n",
    "        s1 = self.separated1(s)\n",
    "        # 今回はtask0とtask1が排他なのでoutputを1つにまとめられる\n",
    "        m  = (x2 == 0)\n",
    "        b  = np.broadcast_to(m, s0.shape)\n",
    "        sx = F.where(b, s0, s1)\n",
    "        return sx"
   ]
  },
  {
   "cell_type": "markdown",
   "metadata": {
    "deletable": true,
    "editable": true
   },
   "source": [
    "最適化の設定"
   ]
  },
  {
   "cell_type": "code",
   "execution_count": 3,
   "metadata": {
    "collapsed": false,
    "deletable": true,
    "editable": true
   },
   "outputs": [],
   "source": [
    "net = CombinedNet(SharedNet(3), SeparatedNet(2), SeparatedNet(2))\n",
    "optimizer = chainer.optimizers.Adam()\n",
    "optimizer.use_cleargrads()\n",
    "optimizer.setup(net)"
   ]
  },
  {
   "cell_type": "markdown",
   "metadata": {
    "deletable": true,
    "editable": true
   },
   "source": [
    "データの読込"
   ]
  },
  {
   "cell_type": "code",
   "execution_count": 4,
   "metadata": {
    "collapsed": true,
    "deletable": true,
    "editable": true
   },
   "outputs": [],
   "source": [
    "X, ys = datasets.load_iris(return_X_y=True)\n",
    "X  = X.astype(np.float32)\n",
    "ys = ys.astype(np.int32)\n",
    "y1 = (ys == 0).astype(np.int32)\n",
    "y2 = (ys == 2).astype(np.int32)"
   ]
  },
  {
   "cell_type": "markdown",
   "metadata": {
    "deletable": true,
    "editable": true
   },
   "source": [
    "タスクに合わせた整形"
   ]
  },
  {
   "cell_type": "code",
   "execution_count": 5,
   "metadata": {
    "collapsed": false,
    "deletable": true,
    "editable": true
   },
   "outputs": [
    {
     "name": "stdout",
     "output_type": "stream",
     "text": [
      "0.48\n"
     ]
    }
   ],
   "source": [
    "np.random.seed(20160308)\n",
    "# y=0はtask0\n",
    "# y=2はtask1\n",
    "# y=1はランダムにtaskを割り当てる\n",
    "task_idx = np.random.choice([0, 1], len(ys), replace=True)\n",
    "task_idx[ys==0] = 0\n",
    "task_idx[ys==2] = 1\n",
    "task_idx = task_idx.astype(np.int32)\n",
    "print((task_idx==0).mean())"
   ]
  },
  {
   "cell_type": "code",
   "execution_count": 6,
   "metadata": {
    "collapsed": true,
    "deletable": true,
    "editable": true
   },
   "outputs": [],
   "source": [
    "v_in  = [X, np.expand_dims(task_idx, 1)]\n",
    "# task0のラベルとtask1のラベルを1つにまとめる\n",
    "v_out = ((task_idx==0)*(ys==0) + (task_idx==1)*(ys==2)).astype(np.int32)"
   ]
  },
  {
   "cell_type": "markdown",
   "metadata": {
    "deletable": true,
    "editable": true
   },
   "source": [
    "パラメータの更新"
   ]
  },
  {
   "cell_type": "code",
   "execution_count": 7,
   "metadata": {
    "collapsed": true,
    "deletable": true,
    "editable": true
   },
   "outputs": [],
   "source": [
    "net.cleargrads()\n",
    "optimizer.update(\n",
    "    F.softmax_cross_entropy,\n",
    "    net(v_in[0], v_in[1]),\n",
    "    v_out\n",
    ")"
   ]
  },
  {
   "cell_type": "code",
   "execution_count": null,
   "metadata": {
    "collapsed": true,
    "deletable": true,
    "editable": true
   },
   "outputs": [],
   "source": []
  }
 ],
 "metadata": {
  "kernelspec": {
   "display_name": "Python 3",
   "language": "python",
   "name": "python3"
  },
  "language_info": {
   "codemirror_mode": {
    "name": "ipython",
    "version": 3
   },
   "file_extension": ".py",
   "mimetype": "text/x-python",
   "name": "python",
   "nbconvert_exporter": "python",
   "pygments_lexer": "ipython3",
   "version": "3.6.0"
  }
 },
 "nbformat": 4,
 "nbformat_minor": 2
}
