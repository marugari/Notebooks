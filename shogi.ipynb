{
 "cells": [
  {
   "cell_type": "code",
   "execution_count": 1,
   "metadata": {
    "collapsed": false
   },
   "outputs": [],
   "source": [
    "import numpy as np\n",
    "import pandas as pd\n",
    "import scipy.stats"
   ]
  },
  {
   "cell_type": "code",
   "execution_count": 2,
   "metadata": {
    "collapsed": true
   },
   "outputs": [],
   "source": [
    "p   = 0.75\n",
    "num = 30\n",
    "lim = int(num * 0.9) - 1\n",
    "q   = 1.0 - scipy.stats.binom.cdf(lim, num, p)"
   ]
  },
  {
   "cell_type": "code",
   "execution_count": 3,
   "metadata": {
    "collapsed": false
   },
   "outputs": [
    {
     "name": "stdout",
     "output_type": "stream",
     "text": [
      "3.74493257238\n"
     ]
    }
   ],
   "source": [
    "print(q * 100)"
   ]
  },
  {
   "cell_type": "code",
   "execution_count": 4,
   "metadata": {
    "collapsed": false
   },
   "outputs": [],
   "source": [
    "r   = q\n",
    "num = 12\n",
    "s1  = 1.0 - scipy.stats.binom.cdf(0, num, r)\n",
    "s2  = 1.0 - scipy.stats.binom.cdf(1, num, r)\n",
    "s3  = 1.0 - scipy.stats.binom.cdf(2, num, r)"
   ]
  },
  {
   "cell_type": "code",
   "execution_count": 5,
   "metadata": {
    "collapsed": false
   },
   "outputs": [
    {
     "name": "stdout",
     "output_type": "stream",
     "text": [
      "36.7466937671\n",
      "7.21523658944\n",
      "0.895951239848\n"
     ]
    }
   ],
   "source": [
    "print(s1 * 100)\n",
    "print(s2 * 100)\n",
    "print(s3 * 100)"
   ]
  },
  {
   "cell_type": "code",
   "execution_count": 6,
   "metadata": {
    "collapsed": true
   },
   "outputs": [],
   "source": [
    "p   = 0.75\n",
    "num = 30\n",
    "lim = int(num * 0.85)\n",
    "q   = 1.0 - scipy.stats.binom.cdf(lim, num, p)"
   ]
  },
  {
   "cell_type": "code",
   "execution_count": 7,
   "metadata": {
    "collapsed": false
   },
   "outputs": [
    {
     "name": "stdout",
     "output_type": "stream",
     "text": [
      "9.78695995647\n"
     ]
    }
   ],
   "source": [
    "print(q * 100)"
   ]
  },
  {
   "cell_type": "code",
   "execution_count": 8,
   "metadata": {
    "collapsed": true
   },
   "outputs": [],
   "source": [
    "r   = q\n",
    "num = 12\n",
    "lim = 3\n",
    "s   = 1.0 - scipy.stats.binom.cdf(lim, num, r)"
   ]
  },
  {
   "cell_type": "code",
   "execution_count": 9,
   "metadata": {
    "collapsed": false
   },
   "outputs": [
    {
     "name": "stdout",
     "output_type": "stream",
     "text": [
      "2.3862319599\n"
     ]
    }
   ],
   "source": [
    "print(s * 100)"
   ]
  },
  {
   "cell_type": "code",
   "execution_count": null,
   "metadata": {
    "collapsed": true
   },
   "outputs": [],
   "source": []
  }
 ],
 "metadata": {
  "kernelspec": {
   "display_name": "Python 3",
   "language": "python",
   "name": "python3"
  },
  "language_info": {
   "codemirror_mode": {
    "name": "ipython",
    "version": 3
   },
   "file_extension": ".py",
   "mimetype": "text/x-python",
   "name": "python",
   "nbconvert_exporter": "python",
   "pygments_lexer": "ipython3",
   "version": "3.5.2"
  }
 },
 "nbformat": 4,
 "nbformat_minor": 1
}
