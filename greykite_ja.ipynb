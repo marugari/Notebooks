{
 "cells": [
  {
   "cell_type": "code",
   "execution_count": 1,
   "id": "546401b4-78c9-4769-a6e1-0634197cfab6",
   "metadata": {},
   "outputs": [],
   "source": [
    "import numpy as np\n",
    "import pandas as pd\n",
    "from sklearn.metrics import mean_absolute_error, mean_absolute_percentage_error\n",
    "from time import time"
   ]
  },
  {
   "cell_type": "code",
   "execution_count": 2,
   "id": "4fe2fa78-1a0d-4efa-8001-42fc8b7e271e",
   "metadata": {},
   "outputs": [],
   "source": [
    "from prophet import Prophet\n",
    "from prophet.diagnostics import cross_validation\n",
    "from greykite.framework.templates.forecaster import Forecaster\n",
    "from greykite.framework.templates.model_templates import ModelTemplateEnum\n",
    "from greykite.framework.templates.autogen.forecast_config import (\n",
    "    ComputationParam,\n",
    "    EvaluationPeriodParam,\n",
    "    ForecastConfig,\n",
    "    MetadataParam,\n",
    ")"
   ]
  },
  {
   "cell_type": "code",
   "execution_count": 3,
   "id": "719959d1-d4bb-4e5f-bdd0-2c32e664b452",
   "metadata": {},
   "outputs": [],
   "source": [
    "import logging\n",
    "from logging import getLogger\n",
    "logger = getLogger('cmdstanpy')"
   ]
  },
  {
   "cell_type": "code",
   "execution_count": 4,
   "id": "7c8070a1-e816-4eaa-a14e-5f5fcfe485bc",
   "metadata": {},
   "outputs": [],
   "source": [
    "def make_series(n, base_date='2020-01-01'):\n",
    "    np.random.seed(0)\n",
    "    df = pd.DataFrame()\n",
    "    index = np.arange(n)\n",
    "    time_index = pd.to_datetime(base_date) + pd.to_timedelta([f'{n} days' for n in index])\n",
    "    df['ds'] = time_index.date\n",
    "    a_trend = 1\n",
    "    delta = np.where(index < 0.4 * n, a_trend / n, 2.0 * a_trend / n)\n",
    "    b_day = np.where(time_index.day == 25, 1.2, 1.0)\n",
    "    b_dow = np.where(\n",
    "        time_index.dayofweek == 0,\n",
    "        1.3,\n",
    "        np.where(time_index.dayofweek == 6, 1.1, 1.0)\n",
    "    )\n",
    "    df['y'] = (100 + np.cumsum(delta)) * b_day * b_dow + (1.0 + 0.01 * np.random.randn(n))\n",
    "    return df"
   ]
  },
  {
   "cell_type": "code",
   "execution_count": 5,
   "id": "fbd37b44-d04c-4697-a3de-eb9bc575c28c",
   "metadata": {},
   "outputs": [
    {
     "name": "stdout",
     "output_type": "stream",
     "text": [
      "['ds' 'y']\n",
      "2020-01-01 2022-09-26\n"
     ]
    }
   ],
   "source": [
    "n = 1000\n",
    "df = make_series(n)\n",
    "print(df.columns.values)\n",
    "print(df['ds'].min(), df['ds'].max())"
   ]
  },
  {
   "cell_type": "markdown",
   "id": "66244e2f-c0e0-421e-8ee1-67c117a7d0f7",
   "metadata": {},
   "source": [
    "## Prophet fit"
   ]
  },
  {
   "cell_type": "code",
   "execution_count": 6,
   "id": "75f784fe-b65d-4dc7-930f-bdcb739ff544",
   "metadata": {},
   "outputs": [
    {
     "name": "stdout",
     "output_type": "stream",
     "text": [
      "2020-01-01 2022-06-18\n",
      "2022-06-19 2022-09-26\n"
     ]
    }
   ],
   "source": [
    "p = int(0.90 * n)\n",
    "df_train = df.iloc[0:p]\n",
    "df_test= df.iloc[p:n]\n",
    "print(df_train['ds'].min(), df_train['ds'].max())\n",
    "print(df_test['ds'].min(), df_test['ds'].max())"
   ]
  },
  {
   "cell_type": "code",
   "execution_count": 7,
   "id": "0a84d1f7-025c-4095-a5c2-f07605490579",
   "metadata": {},
   "outputs": [
    {
     "name": "stderr",
     "output_type": "stream",
     "text": [
      "11:37:15 - cmdstanpy - INFO - Chain [1] start processing\n",
      "11:37:15 - cmdstanpy - INFO - Chain [1] done processing\n"
     ]
    },
    {
     "name": "stdout",
     "output_type": "stream",
     "text": [
      "0.7320771217346191\n"
     ]
    }
   ],
   "source": [
    "logger.setLevel(logging.INFO)\n",
    "s = time()\n",
    "model = Prophet()\n",
    "model.fit(df_train)\n",
    "t = time()\n",
    "print(t - s)"
   ]
  },
  {
   "cell_type": "code",
   "execution_count": 8,
   "id": "54a3d77a-07ee-46ce-abfd-9df584301761",
   "metadata": {},
   "outputs": [
    {
     "name": "stdout",
     "output_type": "stream",
     "text": [
      "0.6161530017852783\n"
     ]
    }
   ],
   "source": [
    "s = time()\n",
    "df_pred = model.predict(df_test)\n",
    "t = time()\n",
    "print(t - s)"
   ]
  },
  {
   "cell_type": "code",
   "execution_count": 9,
   "id": "13978327-810a-49c5-8ca0-b281c84a7069",
   "metadata": {},
   "outputs": [
    {
     "name": "stdout",
     "output_type": "stream",
     "text": [
      "MAE  = 1.3837261962100948\n",
      "MAPE = 0.011266327716615319\n"
     ]
    }
   ],
   "source": [
    "mae = mean_absolute_error(df_test['y'], df_pred['yhat'])\n",
    "mape = mean_absolute_percentage_error(df_test['y'], df_pred['yhat'])\n",
    "print(f\"MAE  = {mae}\")\n",
    "print(f\"MAPE = {mape}\")"
   ]
  },
  {
   "cell_type": "markdown",
   "id": "13b2db95-f2d0-40e2-8407-370c00b214de",
   "metadata": {},
   "source": [
    "### Greykite\n",
    "\n",
    "https://linkedin.github.io/greykite/docs/0.3.0/html/pages/stepbystep/0400_configuration.html\n",
    "\n",
    "CV数 + バックテスト + 予測 の回数だけ学習する。"
   ]
  },
  {
   "cell_type": "code",
   "execution_count": 10,
   "id": "f58c8180-83c5-4fc4-bd4b-d69611c29def",
   "metadata": {},
   "outputs": [],
   "source": [
    "metadata_param = MetadataParam(time_col='ds', value_col='y', freq='D')\n",
    "computation_param = ComputationParam(n_jobs=-1)\n",
    "evaluation_period_param = EvaluationPeriodParam(\n",
    "    test_horizon=0,\n",
    "    cv_horizon=30,\n",
    "    cv_max_splits=5\n",
    ")\n",
    "config = ForecastConfig(\n",
    "    model_template=ModelTemplateEnum.SILVERKITE.name,\n",
    "    metadata_param=metadata_param,\n",
    "    computation_param=computation_param,\n",
    "    evaluation_period_param=evaluation_period_param,\n",
    "    forecast_horizon=n-p\n",
    ")"
   ]
  },
  {
   "cell_type": "code",
   "execution_count": 11,
   "id": "cf55dce2-896d-4ac7-a6f0-575d795ab1d7",
   "metadata": {},
   "outputs": [
    {
     "name": "stdout",
     "output_type": "stream",
     "text": [
      "Fitting 5 folds for each of 1 candidates, totalling 5 fits\n"
     ]
    },
    {
     "name": "stderr",
     "output_type": "stream",
     "text": [
      "/usr/local/lib/python3.9/site-packages/greykite/framework/pipeline/pipeline.py:181: UserWarning: No data selected for test (test_horizon=0). It is important to check out of sample performance\n",
      "  warnings.warn(\"No data selected for test (test_horizon=0). \"\n"
     ]
    },
    {
     "name": "stdout",
     "output_type": "stream",
     "text": [
      "16.121201276779175\n"
     ]
    }
   ],
   "source": [
    "forecaster = Forecaster()\n",
    "s = time()\n",
    "result = forecaster.run_forecast_config(df=df_train, config=config)\n",
    "t = time()\n",
    "print(t - s)"
   ]
  },
  {
   "cell_type": "code",
   "execution_count": 12,
   "id": "63866a62-48d7-4ec7-b318-e778dd7ab74a",
   "metadata": {},
   "outputs": [
    {
     "name": "stdout",
     "output_type": "stream",
     "text": [
      "2022-06-19 00:00:00 2022-09-26 00:00:00\n"
     ]
    }
   ],
   "source": [
    "df_pred = result.forecast.df.tail(n-p)\n",
    "print(df_pred['ds'].min(), df_pred['ds'].max())"
   ]
  },
  {
   "cell_type": "code",
   "execution_count": 13,
   "id": "16d42d03-85f2-4f6b-8531-08569e3e7bb7",
   "metadata": {},
   "outputs": [
    {
     "name": "stdout",
     "output_type": "stream",
     "text": [
      "MAE  = 1.8712432229484515\n",
      "MAPE = 0.01582689727568757\n"
     ]
    }
   ],
   "source": [
    "mae = mean_absolute_error(df_test['y'], df_pred['forecast'])\n",
    "mape = mean_absolute_percentage_error(df_test['y'], df_pred['forecast'])\n",
    "print(f\"MAE  = {mae}\")\n",
    "print(f\"MAPE = {mape}\")"
   ]
  },
  {
   "cell_type": "code",
   "execution_count": 14,
   "id": "701f36da-25f7-4034-9bff-2eb8d30a823b",
   "metadata": {},
   "outputs": [
    {
     "name": "stderr",
     "output_type": "stream",
     "text": [
      "/usr/local/lib/python3.9/site-packages/greykite/sklearn/transform/null_transformer.py:177: RuntimeWarning: Input data has many null values. Missing 100.00% of one input.\n",
      "  warnings.warn(f\"Input data has many null values. Missing {self.null_frac.max():.2%} of one input.\",\n"
     ]
    },
    {
     "name": "stdout",
     "output_type": "stream",
     "text": [
      "0.7079308032989502\n"
     ]
    }
   ],
   "source": [
    "s = time()\n",
    "df_future = result.timeseries.make_future_dataframe(periods=n - p, include_history=False)\n",
    "df_pred = result.model.predict(df_future)\n",
    "t = time()\n",
    "print(t - s)"
   ]
  },
  {
   "cell_type": "markdown",
   "id": "a7f18040-d154-4101-852f-e4120841ed22",
   "metadata": {},
   "source": [
    "## Prophet cross_validation"
   ]
  },
  {
   "cell_type": "code",
   "execution_count": 15,
   "id": "98ea073a-74be-4276-9b07-24df83be501b",
   "metadata": {},
   "outputs": [
    {
     "data": {
      "application/vnd.jupyter.widget-view+json": {
       "model_id": "97d2c60ff8484a2aa7bb5f5b7b6947ef",
       "version_major": 2,
       "version_minor": 0
      },
      "text/plain": [
       "  0%|          | 0/17 [00:00<?, ?it/s]"
      ]
     },
     "metadata": {},
     "output_type": "display_data"
    },
    {
     "name": "stdout",
     "output_type": "stream",
     "text": [
      "11.384675979614258\n"
     ]
    }
   ],
   "source": [
    "logger.setLevel(logging.WARNING)\n",
    "s = time()\n",
    "cv = cross_validation(\n",
    "    model,\n",
    "    horizon='30 days',\n",
    "    period='30 days',\n",
    ")\n",
    "t = time()\n",
    "print(t - s)"
   ]
  },
  {
   "cell_type": "code",
   "execution_count": null,
   "id": "06ae4327-6618-4e58-94fd-859cce393ce8",
   "metadata": {},
   "outputs": [],
   "source": []
  }
 ],
 "metadata": {
  "kernelspec": {
   "display_name": "Python 3 (ipykernel)",
   "language": "python",
   "name": "python3"
  },
  "language_info": {
   "codemirror_mode": {
    "name": "ipython",
    "version": 3
   },
   "file_extension": ".py",
   "mimetype": "text/x-python",
   "name": "python",
   "nbconvert_exporter": "python",
   "pygments_lexer": "ipython3",
   "version": "3.9.15"
  }
 },
 "nbformat": 4,
 "nbformat_minor": 5
}
