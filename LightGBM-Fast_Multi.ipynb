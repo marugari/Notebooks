{
 "cells": [
  {
   "cell_type": "markdown",
   "metadata": {},
   "source": [
    "# Fast_Multi Booster\n",
    "\n",
    "inspired by [Gradient Boosted Decision Trees for High Dimensional Sparse Output](http://www.stat.ucdavis.edu/%7Echohsieh/rf/icml_sparse_GBDT.pdf)"
   ]
  },
  {
   "cell_type": "code",
   "execution_count": 1,
   "metadata": {
    "collapsed": true
   },
   "outputs": [],
   "source": [
    "import numpy as np\n",
    "import pandas as pd\n",
    "import lightgbm as lgb\n",
    "import matplotlib.pyplot as plt\n",
    "import seaborn\n",
    "from sklearn import preprocessing\n",
    "from sklearn.metrics import log_loss\n",
    "import time\n",
    "%matplotlib inline"
   ]
  },
  {
   "cell_type": "markdown",
   "metadata": {},
   "source": [
    "Data from [Kaggle Otto competition](https://www.kaggle.com/c/otto-group-product-classification-challenge)"
   ]
  },
  {
   "cell_type": "code",
   "execution_count": 2,
   "metadata": {},
   "outputs": [
    {
     "name": "stdout",
     "output_type": "stream",
     "text": [
      "(61878, 95)\n"
     ]
    }
   ],
   "source": [
    "train = pd.read_csv('input/otto_train.csv')\n",
    "print(train.shape)"
   ]
  },
  {
   "cell_type": "code",
   "execution_count": 3,
   "metadata": {
    "collapsed": true
   },
   "outputs": [],
   "source": [
    "def encode_features(dat):\n",
    "    df = pd.DataFrame(index=dat.index.values)\n",
    "    for c in dat.columns.values:\n",
    "        unq = np.unique(dat[c])\n",
    "        arr = np.zeros(len(df))\n",
    "        for ii, u in enumerate(unq):\n",
    "            flg = (dat[c] == u).values\n",
    "            arr[flg] = ii\n",
    "        df[c] = arr.astype(int)\n",
    "    return df"
   ]
  },
  {
   "cell_type": "code",
   "execution_count": 4,
   "metadata": {},
   "outputs": [
    {
     "name": "stdout",
     "output_type": "stream",
     "text": [
      "(61878, 93) (61878,)\n"
     ]
    }
   ],
   "source": [
    "x = encode_features(train.drop(['id', 'target'], axis=1))\n",
    "y = np.array([int(v.split('_')[1])-1 for v in train.target])\n",
    "print(x.shape, y.shape)"
   ]
  },
  {
   "cell_type": "code",
   "execution_count": 5,
   "metadata": {},
   "outputs": [
    {
     "name": "stdout",
     "output_type": "stream",
     "text": [
      "9\n"
     ]
    }
   ],
   "source": [
    "num_cls = len(np.unique(y))\n",
    "print(num_cls)"
   ]
  },
  {
   "cell_type": "code",
   "execution_count": 6,
   "metadata": {
    "collapsed": true
   },
   "outputs": [],
   "source": [
    "np.random.seed(20161218)\n",
    "flg_train = np.random.choice([False, True], len(y), p=[0.3, 0.7])\n",
    "flg_valid = np.logical_not(flg_train)"
   ]
  },
  {
   "cell_type": "code",
   "execution_count": 7,
   "metadata": {
    "collapsed": true
   },
   "outputs": [],
   "source": [
    "dt_lgb   = lgb.Dataset(x[flg_train], y[flg_train])\n",
    "dv_lgb   = lgb.Dataset(x[flg_valid], y[flg_valid], reference=dt_lgb)"
   ]
  },
  {
   "cell_type": "markdown",
   "metadata": {},
   "source": [
    "### GBDT booster"
   ]
  },
  {
   "cell_type": "code",
   "execution_count": 8,
   "metadata": {
    "collapsed": true
   },
   "outputs": [],
   "source": [
    "prm_lgb = {\n",
    "    'boosting_type': 'gbdt',\n",
    "    'objective': 'multiclass',\n",
    "    'num_class': num_cls,\n",
    "    'num_leaves' : 2**5-1,\n",
    "    'learning_rate': 0.1,\n",
    "    'feature_fraction': 0.9,\n",
    "    'bagging_fraction': 0.9,\n",
    "    'bagging_freq' : 1,\n",
    "    'metric': 'multi_logloss',\n",
    "}\n",
    "num_round = 100"
   ]
  },
  {
   "cell_type": "code",
   "execution_count": 9,
   "metadata": {},
   "outputs": [
    {
     "name": "stdout",
     "output_type": "stream",
     "text": [
      "12.959201097488403\n",
      "[0.39572366741363918, 0.52176887577053011]\n"
     ]
    }
   ],
   "source": [
    "time_s = time.time()\n",
    "obj_gbdt = lgb.train(\n",
    "    prm_lgb, dt_lgb, num_boost_round=num_round,\n",
    "    #valid_sets=dv_lgb\n",
    ")\n",
    "time_t = time.time()\n",
    "time_gbdt = time_t - time_s\n",
    "loss_gbdt = [\n",
    "    log_loss(y[flg_train], obj_gbdt.predict(x[flg_train])),\n",
    "    log_loss(y[flg_valid], obj_gbdt.predict(x[flg_valid]))\n",
    "]\n",
    "print(time_gbdt)\n",
    "print(loss_gbdt)"
   ]
  },
  {
   "cell_type": "markdown",
   "metadata": {},
   "source": [
    "### Fast_Multi booster\n",
    "\n",
    "Parameters\n",
    "\n",
    "* boosting_type: 'fast_multi'\n",
    "* num_class_train: number of class training per iteration"
   ]
  },
  {
   "cell_type": "code",
   "execution_count": 10,
   "metadata": {
    "collapsed": true
   },
   "outputs": [],
   "source": [
    "prm_lgb.update({\n",
    "    'boosting_type': 'fast_multi',\n",
    "    'num_class_train': 1,\n",
    "})"
   ]
  },
  {
   "cell_type": "code",
   "execution_count": 11,
   "metadata": {},
   "outputs": [
    {
     "name": "stdout",
     "output_type": "stream",
     "text": [
      "1.8654110431671143\n",
      "[0.39572366741363918, 0.52176887577053011]\n"
     ]
    }
   ],
   "source": [
    "time_s = time.time()\n",
    "obj_fm = lgb.train(\n",
    "    prm_lgb, dt_lgb, num_boost_round=num_round,\n",
    "    #valid_sets=dv_lgb\n",
    ")\n",
    "time_t = time.time()\n",
    "time_fm = time_t - time_s\n",
    "loss_fm = [\n",
    "    log_loss(y[flg_train], obj_gbdt.predict(x[flg_train])),\n",
    "    log_loss(y[flg_valid], obj_gbdt.predict(x[flg_valid]))\n",
    "]\n",
    "print(time_fm)\n",
    "print(loss_fm)"
   ]
  },
  {
   "cell_type": "code",
   "execution_count": 12,
   "metadata": {
    "collapsed": true
   },
   "outputs": [],
   "source": [
    "res = []\n",
    "for ii in range(num_cls):\n",
    "    prm_lgb.update({'num_class_train': ii+1})\n",
    "    time_s = time.time()\n",
    "    obj_fm = lgb.train(\n",
    "        prm_lgb, dt_lgb, num_boost_round=num_round,\n",
    "        #valid_sets=dv_lgb\n",
    "    )\n",
    "    time_t = time.time()\n",
    "    res.append((\n",
    "        time_t - time_s,\n",
    "        log_loss(y[flg_train], obj_fm.predict(x[flg_train])),\n",
    "        log_loss(y[flg_valid], obj_fm.predict(x[flg_valid]))\n",
    "    ))\n",
    "df = pd.DataFrame(res)\n",
    "df.columns = ['time', 'train', 'valid']\n",
    "df.index   = df.index +1"
   ]
  },
  {
   "cell_type": "code",
   "execution_count": 13,
   "metadata": {
    "collapsed": true
   },
   "outputs": [],
   "source": [
    "df['time_gbdt']  = time_gbdt\n",
    "df['train_gbdt'] = loss_gbdt[0]\n",
    "df['valid_gbdt'] = loss_gbdt[1]"
   ]
  },
  {
   "cell_type": "code",
   "execution_count": 14,
   "metadata": {},
   "outputs": [
    {
     "data": {
      "image/png": "[encoded data removed]",
      "text/plain": [
       "<matplotlib.figure.Figure at 0x1119d1828>"
      ]
     },
     "metadata": {},
     "output_type": "display_data"
    }
   ],
   "source": [
    "fig = plt.figure()\n",
    "plt.plot(df.time, label='Fast_Multi')\n",
    "plt.plot(df.time_gbdt, label='GBDT')\n",
    "plt.legend()\n",
    "plt.title('time')\n",
    "plt.xlabel('num_class_train')\n",
    "plt.ylabel('time')\n",
    "plt.show()"
   ]
  },
  {
   "cell_type": "code",
   "execution_count": 15,
   "metadata": {},
   "outputs": [
    {
     "data": {
      "image/png": "[encoded data removed]",
      "text/plain": [
       "<matplotlib.figure.Figure at 0x119fc6fd0>"
      ]
     },
     "metadata": {},
     "output_type": "display_data"
    }
   ],
   "source": [
    "fig = plt.figure()\n",
    "plt.plot(df.train, label='Fast_Multi')\n",
    "plt.plot(df.train_gbdt, label='GBDT')\n",
    "plt.legend()\n",
    "plt.title('train score')\n",
    "plt.xlabel('num_class_train')\n",
    "plt.ylabel('multi log-loss')\n",
    "plt.show()"
   ]
  },
  {
   "cell_type": "code",
   "execution_count": 16,
   "metadata": {},
   "outputs": [
    {
     "data": {
      "image/png": "[encoded data removed]",
      "text/plain": [
       "<matplotlib.figure.Figure at 0x115c21518>"
      ]
     },
     "metadata": {},
     "output_type": "display_data"
    }
   ],
   "source": [
    "fig = plt.figure()\n",
    "plt.plot(df.valid, label='Fast_Multi')\n",
    "plt.plot(df.valid_gbdt, label='GBDT')\n",
    "plt.legend()\n",
    "plt.title('valid score')\n",
    "plt.xlabel('num_class_train')\n",
    "plt.ylabel('multi log-loss')\n",
    "plt.show()"
   ]
  },
  {
   "cell_type": "code",
   "execution_count": null,
   "metadata": {
    "collapsed": true
   },
   "outputs": [],
   "source": []
  }
 ],
 "metadata": {
  "kernelspec": {
   "display_name": "Python 3",
   "language": "python",
   "name": "python3"
  },
  "language_info": {
   "codemirror_mode": {
    "name": "ipython",
    "version": 3
   },
   "file_extension": ".py",
   "mimetype": "text/x-python",
   "name": "python",
   "nbconvert_exporter": "python",
   "pygments_lexer": "ipython3",
   "version": "3.6.2"
  }
 },
 "nbformat": 4,
 "nbformat_minor": 2
}
