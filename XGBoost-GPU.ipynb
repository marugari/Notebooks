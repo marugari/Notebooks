{
 "cells": [
  {
   "cell_type": "code",
   "execution_count": 1,
   "metadata": {
    "collapsed": true
   },
   "outputs": [],
   "source": [
    "import numpy as np\n",
    "import pandas as pd\n",
    "import xgboost as xgb\n",
    "import matplotlib.pyplot as plt\n",
    "import seaborn\n",
    "from sklearn import preprocessing\n",
    "import time\n",
    "%matplotlib inline"
   ]
  },
  {
   "cell_type": "code",
   "execution_count": 2,
   "metadata": {},
   "outputs": [
    {
     "name": "stdout",
     "output_type": "stream",
     "text": [
      "(61878, 95)\n"
     ]
    }
   ],
   "source": [
    "train = pd.read_csv('input/otto_train.csv')\n",
    "print(train.shape)"
   ]
  },
  {
   "cell_type": "code",
   "execution_count": 3,
   "metadata": {
    "collapsed": true
   },
   "outputs": [],
   "source": [
    "def encode_features(dat):\n",
    "    df = pd.DataFrame(index=dat.index.values)\n",
    "    for c in dat.columns.values:\n",
    "        unq = np.unique(dat[c])\n",
    "        arr = np.zeros(len(df))\n",
    "        for ii, u in enumerate(unq):\n",
    "            flg = (dat[c] == u).values\n",
    "            arr[flg] = ii\n",
    "        df[c] = arr.astype(int)\n",
    "    return df"
   ]
  },
  {
   "cell_type": "code",
   "execution_count": 4,
   "metadata": {},
   "outputs": [
    {
     "name": "stdout",
     "output_type": "stream",
     "text": [
      "(61878, 93) (61878,)\n"
     ]
    }
   ],
   "source": [
    "x = encode_features(train.drop(['id', 'target'], axis=1))\n",
    "y = np.array([int(v.split('_')[1])-1 for v in train.target])\n",
    "print(x.shape, y.shape)"
   ]
  },
  {
   "cell_type": "code",
   "execution_count": 5,
   "metadata": {},
   "outputs": [
    {
     "name": "stdout",
     "output_type": "stream",
     "text": [
      "9\n"
     ]
    }
   ],
   "source": [
    "num_cls = len(np.unique(y))\n",
    "print(num_cls)"
   ]
  },
  {
   "cell_type": "code",
   "execution_count": 6,
   "metadata": {
    "collapsed": true
   },
   "outputs": [],
   "source": [
    "prm_base = {\n",
    "    'booster': 'gbtree',\n",
    "    'objective': 'multi:softprob',\n",
    "    'num_class': num_cls,\n",
    "    'max_depth': 5,\n",
    "    'learning_rate': 0.1,\n",
    "    'colsample_bytree': 0.9,\n",
    "    'subsample': 0.9,\n",
    "    'silent': 1\n",
    "}\n",
    "num_round = 100"
   ]
  },
  {
   "cell_type": "code",
   "execution_count": 7,
   "metadata": {
    "collapsed": true
   },
   "outputs": [],
   "source": [
    "np.random.seed(20170611)\n",
    "flg_train = np.random.choice([False, True], len(y), p=[0.3, 0.7])\n",
    "flg_valid = np.logical_not(flg_train)"
   ]
  },
  {
   "cell_type": "code",
   "execution_count": 8,
   "metadata": {
    "collapsed": true
   },
   "outputs": [],
   "source": [
    "dt_xgb = xgb.DMatrix(x[flg_train], y[flg_train])\n",
    "dv_xgb = xgb.DMatrix(x[flg_valid], y[flg_valid])"
   ]
  },
  {
   "cell_type": "code",
   "execution_count": 9,
   "metadata": {
    "collapsed": true
   },
   "outputs": [],
   "source": [
    "def test_xgb(prm):\n",
    "    time_s = time.time()\n",
    "    obj_xgb = xgb.train(\n",
    "        prm, dt_xgb, num_round\n",
    "    )\n",
    "    time_t = time.time()\n",
    "    return time_t - time_s"
   ]
  },
  {
   "cell_type": "code",
   "execution_count": 10,
   "metadata": {},
   "outputs": [
    {
     "data": {
      "text/plain": [
       "24.81910991668701"
      ]
     },
     "execution_count": 10,
     "metadata": {},
     "output_type": "execute_result"
    }
   ],
   "source": [
    "prm = prm_base\n",
    "test_xgb(prm)"
   ]
  },
  {
   "cell_type": "code",
   "execution_count": 11,
   "metadata": {
    "collapsed": true
   },
   "outputs": [],
   "source": [
    "prm = prm_base\n",
    "prm.update({'updater': 'grow_gpu'})\n",
    "ge = test_xgb(prm)"
   ]
  },
  {
   "cell_type": "code",
   "execution_count": 12,
   "metadata": {
    "collapsed": true
   },
   "outputs": [],
   "source": [
    "prm = prm_base\n",
    "prm.update({'updater': 'grow_gpu_hist'})\n",
    "prm.update({'max_bin': 8})\n",
    "gh = test_xgb(prm)"
   ]
  },
  {
   "cell_type": "code",
   "execution_count": 13,
   "metadata": {
    "collapsed": true
   },
   "outputs": [],
   "source": [
    "val = []\n",
    "cpu = range(1, 17)\n",
    "for c in cpu:\n",
    "    prm = prm_base\n",
    "    prm.update({'updater': 'grow_colmaker'})\n",
    "    prm['nthread'] = c\n",
    "    val.append(test_xgb(prm))\n",
    "ce = val"
   ]
  },
  {
   "cell_type": "code",
   "execution_count": 14,
   "metadata": {
    "collapsed": true
   },
   "outputs": [],
   "source": [
    "val = []\n",
    "cpu = range(1, 17)\n",
    "for c in cpu:\n",
    "    prm = prm_base\n",
    "    prm.update({'updater': 'grow_fast_histmaker'})\n",
    "    prm.update({'max_bin': 8})\n",
    "    prm.update({'nthread': c})\n",
    "    val.append(test_xgb(prm))\n",
    "ch = val"
   ]
  },
  {
   "cell_type": "code",
   "execution_count": 15,
   "metadata": {
    "collapsed": true
   },
   "outputs": [],
   "source": [
    "df = pd.DataFrame({'CPU': ce})\n",
    "df['CPU_hist'] = ch\n",
    "df['GPU']      = ge\n",
    "df['GPU_hist'] = gh"
   ]
  },
  {
   "cell_type": "code",
   "execution_count": 16,
   "metadata": {},
   "outputs": [
    {
     "data": {
      "image/png": "[encoded data removed]",
      "text/plain": [
       "<matplotlib.figure.Figure at 0x7fdcdd2d6860>"
      ]
     },
     "metadata": {},
     "output_type": "display_data"
    }
   ],
   "source": [
    "df.plot(style='o-')\n",
    "plt.xlabel('nthread')\n",
    "plt.ylabel('time')\n",
    "plt.show()"
   ]
  },
  {
   "cell_type": "code",
   "execution_count": 17,
   "metadata": {},
   "outputs": [
    {
     "data": {
      "text/html": [
       "<div>\n",
       "<style>\n",
       "    .dataframe thead tr:only-child th {\n",
       "        text-align: right;\n",
       "    }\n",
       "\n",
       "    .dataframe thead th {\n",
       "        text-align: left;\n",
       "    }\n",
       "\n",
       "    .dataframe tbody tr th {\n",
       "        vertical-align: top;\n",
       "    }\n",
       "</style>\n",
       "<table border=\"1\" class=\"dataframe\">\n",
       "  <thead>\n",
       "    <tr style=\"text-align: right;\">\n",
       "      <th></th>\n",
       "      <th>CPU</th>\n",
       "      <th>CPU_hist</th>\n",
       "      <th>GPU</th>\n",
       "      <th>GPU_hist</th>\n",
       "    </tr>\n",
       "  </thead>\n",
       "  <tbody>\n",
       "    <tr>\n",
       "      <th>0</th>\n",
       "      <td>143.213904</td>\n",
       "      <td>43.093807</td>\n",
       "      <td>10.793109</td>\n",
       "      <td>7.385136</td>\n",
       "    </tr>\n",
       "    <tr>\n",
       "      <th>1</th>\n",
       "      <td>75.984772</td>\n",
       "      <td>24.485343</td>\n",
       "      <td>10.793109</td>\n",
       "      <td>7.385136</td>\n",
       "    </tr>\n",
       "    <tr>\n",
       "      <th>2</th>\n",
       "      <td>56.342093</td>\n",
       "      <td>18.662806</td>\n",
       "      <td>10.793109</td>\n",
       "      <td>7.385136</td>\n",
       "    </tr>\n",
       "    <tr>\n",
       "      <th>3</th>\n",
       "      <td>43.276191</td>\n",
       "      <td>14.980951</td>\n",
       "      <td>10.793109</td>\n",
       "      <td>7.385136</td>\n",
       "    </tr>\n",
       "    <tr>\n",
       "      <th>4</th>\n",
       "      <td>35.087812</td>\n",
       "      <td>12.747035</td>\n",
       "      <td>10.793109</td>\n",
       "      <td>7.385136</td>\n",
       "    </tr>\n",
       "    <tr>\n",
       "      <th>5</th>\n",
       "      <td>29.960601</td>\n",
       "      <td>11.476474</td>\n",
       "      <td>10.793109</td>\n",
       "      <td>7.385136</td>\n",
       "    </tr>\n",
       "    <tr>\n",
       "      <th>6</th>\n",
       "      <td>26.535089</td>\n",
       "      <td>11.396709</td>\n",
       "      <td>10.793109</td>\n",
       "      <td>7.385136</td>\n",
       "    </tr>\n",
       "    <tr>\n",
       "      <th>7</th>\n",
       "      <td>25.082611</td>\n",
       "      <td>9.916659</td>\n",
       "      <td>10.793109</td>\n",
       "      <td>7.385136</td>\n",
       "    </tr>\n",
       "    <tr>\n",
       "      <th>8</th>\n",
       "      <td>24.930102</td>\n",
       "      <td>11.761317</td>\n",
       "      <td>10.793109</td>\n",
       "      <td>7.385136</td>\n",
       "    </tr>\n",
       "    <tr>\n",
       "      <th>9</th>\n",
       "      <td>23.934886</td>\n",
       "      <td>11.543043</td>\n",
       "      <td>10.793109</td>\n",
       "      <td>7.385136</td>\n",
       "    </tr>\n",
       "    <tr>\n",
       "      <th>10</th>\n",
       "      <td>23.353146</td>\n",
       "      <td>11.724661</td>\n",
       "      <td>10.793109</td>\n",
       "      <td>7.385136</td>\n",
       "    </tr>\n",
       "    <tr>\n",
       "      <th>11</th>\n",
       "      <td>23.154665</td>\n",
       "      <td>11.528249</td>\n",
       "      <td>10.793109</td>\n",
       "      <td>7.385136</td>\n",
       "    </tr>\n",
       "    <tr>\n",
       "      <th>12</th>\n",
       "      <td>22.851917</td>\n",
       "      <td>11.614104</td>\n",
       "      <td>10.793109</td>\n",
       "      <td>7.385136</td>\n",
       "    </tr>\n",
       "    <tr>\n",
       "      <th>13</th>\n",
       "      <td>22.556055</td>\n",
       "      <td>11.890477</td>\n",
       "      <td>10.793109</td>\n",
       "      <td>7.385136</td>\n",
       "    </tr>\n",
       "    <tr>\n",
       "      <th>14</th>\n",
       "      <td>22.435674</td>\n",
       "      <td>11.309677</td>\n",
       "      <td>10.793109</td>\n",
       "      <td>7.385136</td>\n",
       "    </tr>\n",
       "    <tr>\n",
       "      <th>15</th>\n",
       "      <td>22.297691</td>\n",
       "      <td>11.825569</td>\n",
       "      <td>10.793109</td>\n",
       "      <td>7.385136</td>\n",
       "    </tr>\n",
       "  </tbody>\n",
       "</table>\n",
       "</div>"
      ],
      "text/plain": [
       "           CPU   CPU_hist        GPU  GPU_hist\n",
       "0   143.213904  43.093807  10.793109  7.385136\n",
       "1    75.984772  24.485343  10.793109  7.385136\n",
       "2    56.342093  18.662806  10.793109  7.385136\n",
       "3    43.276191  14.980951  10.793109  7.385136\n",
       "4    35.087812  12.747035  10.793109  7.385136\n",
       "5    29.960601  11.476474  10.793109  7.385136\n",
       "6    26.535089  11.396709  10.793109  7.385136\n",
       "7    25.082611   9.916659  10.793109  7.385136\n",
       "8    24.930102  11.761317  10.793109  7.385136\n",
       "9    23.934886  11.543043  10.793109  7.385136\n",
       "10   23.353146  11.724661  10.793109  7.385136\n",
       "11   23.154665  11.528249  10.793109  7.385136\n",
       "12   22.851917  11.614104  10.793109  7.385136\n",
       "13   22.556055  11.890477  10.793109  7.385136\n",
       "14   22.435674  11.309677  10.793109  7.385136\n",
       "15   22.297691  11.825569  10.793109  7.385136"
      ]
     },
     "execution_count": 17,
     "metadata": {},
     "output_type": "execute_result"
    }
   ],
   "source": [
    "df"
   ]
  },
  {
   "cell_type": "code",
   "execution_count": null,
   "metadata": {
    "collapsed": true
   },
   "outputs": [],
   "source": []
  }
 ],
 "metadata": {
  "kernelspec": {
   "display_name": "Python 3",
   "language": "python",
   "name": "python3"
  },
  "language_info": {
   "codemirror_mode": {
    "name": "ipython",
    "version": 3
   },
   "file_extension": ".py",
   "mimetype": "text/x-python",
   "name": "python",
   "nbconvert_exporter": "python",
   "pygments_lexer": "ipython3",
   "version": "3.6.1"
  }
 },
 "nbformat": 4,
 "nbformat_minor": 2
}
